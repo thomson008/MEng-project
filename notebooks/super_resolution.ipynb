{
 "cells": [
  {
   "cell_type": "markdown",
   "id": "22976b0e",
   "metadata": {},
   "source": [
    "# CNN DOA with 1 degree resolution"
   ]
  },
  {
   "cell_type": "code",
   "execution_count": 1,
   "id": "ec58991e",
   "metadata": {},
   "outputs": [],
   "source": [
    "from preprocessing import *\n",
    "from training import rmse\n",
    "from music import get_all_predictions\n",
    "from training import create_model, evaluate_model\n",
    "from sklearn.preprocessing import OneHotEncoder\n",
    "from sklearn.metrics import accuracy_score\n",
    "import pandas as pd\n",
    "import numpy as np\n",
    "from scipy.io import wavfile\n",
    "from scipy import signal\n",
    "import pandas as pd\n",
    "\n",
    "import math\n",
    "import sys\n",
    "import os\n",
    "from collections import defaultdict\n",
    "from itertools import combinations\n",
    "\n",
    "from pyroomacoustics.transform import stft\n",
    "\n",
    "import tensorflow as tf\n",
    "from keras import Sequential\n",
    "from keras.models import Model\n",
    "from keras.layers import Input\n",
    "from keras.layers import Dense\n",
    "from keras.layers import Flatten, Reshape\n",
    "from keras.layers import Dropout\n",
    "from keras.layers import Conv1D, Conv2D\n",
    "from keras.layers import MaxPooling1D\n",
    "from keras.layers import LSTM\n",
    "from keras.models import load_model\n",
    "\n",
    "import matplotlib.pyplot as plt\n",
    "import seaborn as sns\n",
    "from pylab import rcParams\n",
    "from matplotlib import rc\n",
    "from pandas.plotting import register_matplotlib_converters\n",
    "sns.set(style='whitegrid', palette='muted', font_scale=1)\n",
    "\n",
    "from numba import cuda "
   ]
  },
  {
   "cell_type": "code",
   "execution_count": 2,
   "id": "85ecb62b",
   "metadata": {},
   "outputs": [],
   "source": [
    "# Label resolution of classification\n",
    "RESOLUTION = 1\n",
    "\n",
    "# Number of samples to include while creating one ML feature\n",
    "SAMPLES = 2048\n",
    "\n",
    "# Determines the overlap of samples between consecutive features\n",
    "STEP = 1024"
   ]
  },
  {
   "cell_type": "code",
   "execution_count": 3,
   "id": "6fd9f7ef",
   "metadata": {},
   "outputs": [],
   "source": [
    "def gcc_phat(x_1, x_2, FS=16000, interp=1):\n",
    "    \"\"\"\n",
    "    Function that will compute the GCC-PHAT\n",
    "    cross-correlation of two separate audio channels\n",
    "    \n",
    "    Returns:\n",
    "        A 1-D GCC vector\n",
    "    \"\"\"\n",
    "    \n",
    "    n = len(x_1) + len(x_2) - 1\n",
    "    n += 1 if n % 2 else 0\n",
    "    \n",
    "    # Fourier transforms of the two signals\n",
    "    X_1 = np.fft.rfft(x_1, n=n)\n",
    "    X_2 = np.fft.rfft(x_2, n=n)\n",
    "    \n",
    "     # Normalize by the magnitude of FFT - because PHAT\n",
    "    np.divide(X_1, np.abs(X_1), X_1, where=np.abs(X_1) != 0)\n",
    "    np.divide(X_2, np.abs(X_2), X_2, where=np.abs(X_2) != 0)\n",
    "    \n",
    "    # GCC-PHAT = [X_1(f)X_2*(f)] / |X_1(f)X_2*(f)|\n",
    "    # See http://www.xavieranguera.com/phdthesis/node92.html for reference\n",
    "    CC = X_1 * np.conj(X_2)\n",
    "    cc = np.fft.irfft(CC, n=n * interp)\n",
    "        \n",
    "    # Maximum delay between a pair of microphones,\n",
    "    # expressed in a number of samples.\n",
    "    # 0.09 m is the mic array diameter and \n",
    "    # 340 m/s is assumed to be the speed of sound.\n",
    "    max_len = math.ceil(0.09 / 340 * FS * interp)\n",
    "    \n",
    "    # Trim the cc vector to only include a \n",
    "    # small number of samples around the origin\n",
    "    cc = np.concatenate((cc[-max_len:], cc[:max_len+1]))\n",
    "    \n",
    "    # Return the cross correlation\n",
    "    return cc\n",
    "\n",
    "\n",
    "def compute_gcc_matrix(observation, fs, interp=1):\n",
    "    \"\"\"\n",
    "    Creates a GCC matrix, where each row is a vector of GCC \n",
    "    between a given pair of microphones.\n",
    "    \"\"\" \n",
    "    \n",
    "    mic_pairs = combinations(range(MICS_NUMBER), r=2)\n",
    "\n",
    "    # Initialize a transformed observation, that will be populated with GCC vectors\n",
    "    # of the observation\n",
    "    transformed_observation = []\n",
    "\n",
    "    # Compute GCC for every pair of microphones\n",
    "    for mic_1, mic_2 in mic_pairs:\n",
    "        x_1 = observation[:, mic_1]\n",
    "        x_2 = observation[:, mic_2]\n",
    "\n",
    "        gcc = gcc_phat(x_1, x_2, FS=fs, interp=interp)\n",
    "\n",
    "        # Add the GCC vector to the GCC matrix\n",
    "        transformed_observation.append(gcc)    \n",
    "        \n",
    "    return transformed_observation\n",
    "\n",
    "\n",
    "def compute_stft_matrix(observation, nfft=256):\n",
    "    \"\"\"\n",
    "    Creates a STFT matrix using microphone data from 6 channels.\n",
    "    \"\"\"\n",
    "    \n",
    "    # Default value for overlap\n",
    "    step = nfft // 2\n",
    "    \n",
    "    # Calculate multidimensional STFT and return\n",
    "    transformed_observation = stft.analysis(observation, L=nfft, hop=step)\n",
    "    return np.transpose(transformed_observation, axes=[2, 1, 0])\n",
    "\n",
    "\n",
    "def create_observations(wav_signals, fs, label, samples=1, step=1, resolution=20, music=False, interp=1):\n",
    "    \"\"\"\n",
    "    Create list of observations from the pandas dataframe.\n",
    "    Each observation will be a GCC matrix, where each row \n",
    "    is a vector of GCC between a given pair of microphones.\n",
    "    \n",
    "    Returns: \n",
    "        a tuple of observations and their corresponding labels\n",
    "    \"\"\"\n",
    "    \n",
    "    # Lists of observations and labels that will be populated\n",
    "    X = []\n",
    "    y = []\n",
    "    \n",
    "    rounded_label = round(label / resolution) * resolution\n",
    "    if rounded_label == 360: rounded_label = 0\n",
    "    \n",
    "    # Loop through the signal frame and take subframes\n",
    "    for i in range(0, len(wav_signals) - samples + 1, step):\n",
    "        y.append(rounded_label)\n",
    "        \n",
    "        # Extract the observation from subframe\n",
    "        observation = np.array(wav_signals[i : i + samples])\n",
    "        \n",
    "        if music:\n",
    "            # Transform observation into a STFT matrix\n",
    "            transformed_observation = compute_stft_matrix(observation)\n",
    "        else:\n",
    "            # Transform observation into a GCC matrix\n",
    "            transformed_observation = compute_gcc_matrix(observation, fs, interp=interp)\n",
    "            \n",
    "        X.append(transformed_observation)\n",
    "\n",
    "    return X, y\n",
    "\n",
    "\n",
    "def one_hot_encode(encoder, y_train, y_test):\n",
    "    \"\"\"\n",
    "    Creates a one-hot encoding of categorical labels\n",
    "    provided in y_train and y_test.\n",
    "    \"\"\"\n",
    "    \n",
    "    y_train = y_train.reshape(-1, 1)\n",
    "    y_test = y_test.reshape(-1, 1)\n",
    "    \n",
    "    # One-hot encode training and testing labels\n",
    "    enc = encoder.fit(y_train)\n",
    "    y_train = enc.transform(y_train)\n",
    "    y_test = enc.transform(y_test)\n",
    "    \n",
    "    return y_train, y_test\n",
    "  \n",
    "    \n",
    "def create_whole_dataset(df_train, df_test, encoder, room=None, dist=None):\n",
    "    \"\"\"\n",
    "    Creates an entire dataset by extracting values\n",
    "    from train and tests dataframes.\n",
    "    \n",
    "    One-hot encodes the labels before returning.\n",
    "    \"\"\"\n",
    "    \n",
    "    # Can filter testing entries to only check performance\n",
    "    # for given conditions\n",
    "    if room:\n",
    "        df_test = df_test[df_test.room == room]\n",
    "    if dist:\n",
    "        df_test = df_test[df_test.dist == dist]\n",
    "    \n",
    "    # Create train/test observations\n",
    "    X_train = df_train.drop(columns=['dist', 'room', 'label']).values.reshape(\n",
    "        len(df_train), MIC_COMBS, -1)\n",
    "    X_test = df_test.drop(columns=['dist', 'room', 'label']).values.reshape(\n",
    "        len(df_test), MIC_COMBS, -1)\n",
    "    \n",
    "    # Create train/test labels\n",
    "    y_train, y_test = one_hot_encode(\n",
    "        encoder, df_train['label'].values, df_test['label'].values)\n",
    "    \n",
    "    return X_train, y_train, X_test, y_test\n",
    "\n",
    "\n",
    "def create_dataframe(subset, plane='horizontal', samples=20, step=5, resolution=20, interp=1):\n",
    "    dataframes = []\n",
    "    \n",
    "    files = [file for file in os.listdir(os.path.join(AUDIO_PATH, plane)) if subset in file and 'white_noise' not in file]\n",
    "\n",
    "    # Loop through all WAVs\n",
    "    for i, file in enumerate(files):\n",
    "        if file[-3:] != 'wav': \n",
    "            continue\n",
    "            \n",
    "        print(f'{subset} file {i+1}/{len(files)}', end='\\r')\n",
    "\n",
    "        path = os.path.join(AUDIO_PATH, plane, file)\n",
    "        fs, wav_signals = wavfile.read(path)\n",
    "        \n",
    "        label = int(file.split('_')[2])\n",
    "        \n",
    "        # Create observations from a given WAV file\n",
    "        X_temp, y_temp = create_observations(wav_signals, fs, label, samples, step, resolution, interp=interp)\n",
    "        \n",
    "        cols = [\n",
    "            f'mics{mic_1+1}{mic_2+1}_{i}' \n",
    "                for mic_1, mic_2 in combinations(range(MICS_NUMBER), r=2) \n",
    "                    for i in range(np.shape(X_temp)[2])\n",
    "        ]\n",
    "        \n",
    "        df = pd.DataFrame(data=np.reshape(X_temp, (len(X_temp), -1)), columns=cols)\n",
    "        dist = int(file.split('_')[4])\n",
    "        room = file.split('_')[6]\n",
    "        df['dist'], df['room'] = dist, room\n",
    "            \n",
    "        # Add label column\n",
    "        df['label'] = y_temp\n",
    "        dataframes.append(df)\n",
    "        \n",
    "    return pd.concat(dataframes, ignore_index=True)"
   ]
  },
  {
   "cell_type": "markdown",
   "id": "ff00a40d",
   "metadata": {},
   "source": [
    "### Create training and testing sets"
   ]
  },
  {
   "cell_type": "code",
   "execution_count": 4,
   "id": "358a241d",
   "metadata": {},
   "outputs": [
    {
     "name": "stdout",
     "output_type": "stream",
     "text": [
      "train file 3240/3240\n",
      "test file 3240/3240\n"
     ]
    },
    {
     "data": {
      "text/plain": [
       "((628560, 15, 25), (210740, 15, 25), (628560, 360), (210740, 360))"
      ]
     },
     "execution_count": 4,
     "metadata": {},
     "output_type": "execute_result"
    }
   ],
   "source": [
    "df_train = create_dataframe('train', samples=SAMPLES, step=STEP, resolution=RESOLUTION, interp=2)\n",
    "print()\n",
    "df_test = create_dataframe('test', samples=SAMPLES, step=STEP, resolution=RESOLUTION, interp=2)\n",
    "print()\n",
    "\n",
    "df_train.to_csv('../training_data/super_azimuth_train_dataset.csv')\n",
    "df_test.to_csv('../training_data/super_azimuth_test_dataset.csv')\n",
    "\n",
    "# Create numpy arrays with observations and one-hot labels\n",
    "encoder = OneHotEncoder(handle_unknown='ignore', sparse=False)\n",
    "X_train, y_train, X_test, y_test = create_whole_dataset(df_train, df_test, encoder)\n",
    "\n",
    "np.shape(X_train), np.shape(X_test), np.shape(y_train), np.shape(y_test)"
   ]
  },
  {
   "cell_type": "markdown",
   "id": "17ddba82",
   "metadata": {},
   "source": [
    "Only run this when all the variables are not stored in memory (i.e. after restarting the kernel):"
   ]
  },
  {
   "cell_type": "code",
   "execution_count": 4,
   "id": "7eae0e55",
   "metadata": {},
   "outputs": [
    {
     "data": {
      "text/plain": [
       "((628560, 15, 25), (210740, 15, 25), (628560, 360), (210740, 360))"
      ]
     },
     "execution_count": 4,
     "metadata": {},
     "output_type": "execute_result"
    }
   ],
   "source": [
    "df_train = pd.read_csv('../training_data/super_azimuth_train_dataset.csv', index_col=[0])\n",
    "df_test = pd.read_csv('../training_data/super_azimuth_test_dataset.csv', index_col=[0])\n",
    "encoder = OneHotEncoder(handle_unknown='ignore', sparse=False)\n",
    "encoder.fit([[label] for label in df_train['label']])\n",
    "X_train, y_train, X_test, y_test = create_whole_dataset(df_train, df_test, encoder)\n",
    "np.shape(X_train), np.shape(X_test), np.shape(y_train), np.shape(y_test)"
   ]
  },
  {
   "cell_type": "code",
   "execution_count": 14,
   "id": "19ad7797",
   "metadata": {},
   "outputs": [],
   "source": [
    "def plot_gccs(angle_labels, observations):\n",
    "    # Create a 2x2 subplot\n",
    "    fig, axs = plt.subplots(2, 2, figsize=(10,10))\n",
    "    fig.suptitle('Example GCC matrices for different angles', fontsize=18)\n",
    "\n",
    "    for i, label in enumerate(np.unique(angle_labels)[::90]):\n",
    "        ax = axs[i//2][i%2]\n",
    "        indices = np.where(angle_labels == label)[0]\n",
    "        obs_idx = indices[np.random.randint(len(indices))]\n",
    "\n",
    "        observation = observations[obs_idx]\n",
    "\n",
    "        ax.set_title(f'Angle {label}')\n",
    "        im = ax.matshow(observation.T, aspect=0.5)\n",
    "        fig.colorbar(im, ax=ax)"
   ]
  },
  {
   "cell_type": "code",
   "execution_count": 20,
   "id": "7a9fe5a7",
   "metadata": {},
   "outputs": [
    {
     "data": {
      "image/png": "[encoded data removed]",
      "text/plain": [
       "<Figure size 720x720 with 8 Axes>"
      ]
     },
     "metadata": {},
     "output_type": "display_data"
    }
   ],
   "source": [
    "# Get training labels\n",
    "angle_labels = encoder.inverse_transform(y_train)\n",
    "plot_gccs(angle_labels, X_train)"
   ]
  },
  {
   "cell_type": "markdown",
   "id": "dd3755ab",
   "metadata": {},
   "source": [
    "### Fit and evaluate model"
   ]
  },
  {
   "cell_type": "code",
   "execution_count": 10,
   "id": "df8586fa",
   "metadata": {},
   "outputs": [
    {
     "data": {
      "text/plain": [
       "((628560, 25, 15), (210740, 25, 15))"
      ]
     },
     "execution_count": 10,
     "metadata": {},
     "output_type": "execute_result"
    }
   ],
   "source": [
    "# Transpose the observations because Conv1D requires timesteps as the 1st dim\n",
    "if X_train.shape[1] == MIC_COMBS:\n",
    "    X_train, X_test = np.transpose(X_train, axes=[0, 2, 1]), np.transpose(X_test, axes=[0, 2, 1])\n",
    "X_train.shape, X_test.shape"
   ]
  },
  {
   "cell_type": "code",
   "execution_count": 7,
   "id": "47903943",
   "metadata": {},
   "outputs": [],
   "source": [
    "epochs, batch_size, verbose = 10, 32, 1\n",
    "\n",
    "# Fit model\n",
    "def create_model(X_train, y_train, X_test, y_test, cnn_layers=5, pooling=True, lstm=False):\n",
    "    n_timesteps, n_features, n_outputs = X_train.shape[1], X_train.shape[2], y_train.shape[1]\n",
    "\n",
    "    # Init model\n",
    "    model = Sequential()\n",
    "\n",
    "    # Add layers\n",
    "    model.add(Conv1D(filters=64, kernel_size=3, activation='relu', input_shape=(n_timesteps,n_features)))\n",
    "    \n",
    "    for i in range(cnn_layers-1):\n",
    "        model.add(Conv1D(filters=64, kernel_size=3, activation='relu'))\n",
    "        \n",
    "    model.add(Dropout(0.5))\n",
    "    \n",
    "    if pooling:\n",
    "        model.add(MaxPooling1D(pool_size=2))\n",
    "        \n",
    "    if lstm:\n",
    "        model.add(LSTM(128, return_sequences=True))\n",
    "        \n",
    "    model.add(Flatten())\n",
    "    model.add(Dense(1000, activation='relu'))\n",
    "    model.add(Dense(n_outputs, activation='softmax'))\n",
    "    model.compile(loss='categorical_crossentropy', optimizer='adam', metrics=['accuracy'])\n",
    "\n",
    "    history = model.fit(X_train, y_train, epochs=epochs, batch_size=batch_size, verbose=verbose)\n",
    "    \n",
    "    return model, history"
   ]
  },
  {
   "cell_type": "markdown",
   "id": "c1dd45f2",
   "metadata": {},
   "source": [
    "Five conv. layers:"
   ]
  },
  {
   "cell_type": "code",
   "execution_count": 39,
   "id": "76c37d7f",
   "metadata": {},
   "outputs": [
    {
     "name": "stdout",
     "output_type": "stream",
     "text": [
      "Epoch 1/10\n",
      "19643/19643 [==============================] - 132s 6ms/step - loss: 1.2076 - accuracy: 0.5082\n",
      "Epoch 2/10\n",
      "19643/19643 [==============================] - 121s 6ms/step - loss: 0.6595 - accuracy: 0.7333\n",
      "Epoch 3/10\n",
      "19643/19643 [==============================] - 121s 6ms/step - loss: 0.5163 - accuracy: 0.8014\n",
      "Epoch 4/10\n",
      "19643/19643 [==============================] - 121s 6ms/step - loss: 0.4427 - accuracy: 0.8346\n",
      "Epoch 5/10\n",
      "19643/19643 [==============================] - 121s 6ms/step - loss: 0.4039 - accuracy: 0.8523\n",
      "Epoch 6/10\n",
      "19643/19643 [==============================] - 121s 6ms/step - loss: 0.3797 - accuracy: 0.8633\n",
      "Epoch 7/10\n",
      "19643/19643 [==============================] - 121s 6ms/step - loss: 0.3626 - accuracy: 0.8716\n",
      "Epoch 8/10\n",
      "19643/19643 [==============================] - 122s 6ms/step - loss: 0.3455 - accuracy: 0.8790\n",
      "Epoch 9/10\n",
      "19643/19643 [==============================] - 121s 6ms/step - loss: 0.3364 - accuracy: 0.8831\n",
      "Epoch 10/10\n",
      "19643/19643 [==============================] - 121s 6ms/step - loss: 0.3288 - accuracy: 0.8870\n"
     ]
    }
   ],
   "source": [
    "model, history = create_model(X_train, y_train, X_test, y_test)"
   ]
  },
  {
   "cell_type": "code",
   "execution_count": 43,
   "id": "f41b7c93",
   "metadata": {},
   "outputs": [],
   "source": [
    "np.save('../models/super_history.npy', history.history)"
   ]
  },
  {
   "cell_type": "code",
   "execution_count": 40,
   "id": "d7d4d6df",
   "metadata": {},
   "outputs": [
    {
     "name": "stdout",
     "output_type": "stream",
     "text": [
      "6586/6586 [==============================] - 24s 4ms/step - loss: 0.5749 - accuracy: 0.8259\n",
      "Accuracy: 0.826\n",
      "RMSE: 6.744\n"
     ]
    }
   ],
   "source": [
    "# Test model\n",
    "accuracy = evaluate_model(model, X_test, y_test)\n",
    "print(f'Accuracy: {accuracy}')\n",
    "y_pred_nn = encoder.inverse_transform(model.predict(X_test))\n",
    "y_true_nn = encoder.inverse_transform(y_test)\n",
    "print(f'RMSE: {rmse(y_true_nn, y_pred_nn)}')"
   ]
  },
  {
   "cell_type": "code",
   "execution_count": 8,
   "id": "2f84721d",
   "metadata": {},
   "outputs": [],
   "source": [
    "def evaluate_for_property(df_train, df_test, prop, value):\n",
    "    \"\"\"\n",
    "    Measures the model prediction for test samples\n",
    "    with a given property, such as room size.\n",
    "    \"\"\"\n",
    "    \n",
    "    encoder = OneHotEncoder(handle_unknown='ignore', sparse=False)\n",
    "    \n",
    "    # Filter test set by property value\n",
    "    X_trn, y_trn, X_tst, y_tst = create_whole_dataset(\n",
    "        df_train, df_test[df_test[prop]==value], encoder\n",
    "    )\n",
    "    \n",
    "    # Evaluate the model on the filtered set\n",
    "    X_tst = np.transpose(X_tst, axes=[0, 2, 1])\n",
    "    loss, acc = model.evaluate(X_tst, y_tst, batch_size=batch_size, verbose=0)\n",
    "    \n",
    "    return round(loss, 3), round(acc, 3)"
   ]
  },
  {
   "cell_type": "code",
   "execution_count": 42,
   "id": "43dbe02c",
   "metadata": {},
   "outputs": [
    {
     "name": "stdout",
     "output_type": "stream",
     "text": [
      "Room sizes\n",
      "small room accuracy: 0.823\n",
      "medium room accuracy: 0.825\n",
      "large room accuracy: 0.83\n",
      "\n",
      "Distances\n",
      "50 cm distance accuracy: 0.597\n",
      "150 cm distance accuracy: 0.942\n",
      "200 cm distance accuracy: 0.941\n",
      "250 cm distance accuracy: 0.934\n",
      "350 cm distance accuracy: 0.937\n",
      "450 cm distance accuracy: 0.949\n"
     ]
    }
   ],
   "source": [
    "# Evaluate performance for different properties\n",
    "print('Room sizes')\n",
    "for room in ROOMS:\n",
    "    _, acc = evaluate_for_property(df_train, df_test, 'room', room)\n",
    "    print(f\"{room} room accuracy: {acc}\")\n",
    "    \n",
    "print('\\nDistances')\n",
    "for dist in np.unique(df_test.dist):\n",
    "    _, acc = evaluate_for_property(df_train, df_test, 'dist', dist)\n",
    "    print(f\"{dist} cm distance accuracy: {acc}\")"
   ]
  },
  {
   "cell_type": "code",
   "execution_count": 44,
   "id": "f3efb573",
   "metadata": {},
   "outputs": [
    {
     "name": "stdout",
     "output_type": "stream",
     "text": [
      "Model: \"sequential\"\n",
      "_________________________________________________________________\n",
      "Layer (type)                 Output Shape              Param #   \n",
      "=================================================================\n",
      "conv1d (Conv1D)              (None, 23, 64)            2944      \n",
      "_________________________________________________________________\n",
      "conv1d_1 (Conv1D)            (None, 21, 64)            12352     \n",
      "_________________________________________________________________\n",
      "conv1d_2 (Conv1D)            (None, 19, 64)            12352     \n",
      "_________________________________________________________________\n",
      "conv1d_3 (Conv1D)            (None, 17, 64)            12352     \n",
      "_________________________________________________________________\n",
      "conv1d_4 (Conv1D)            (None, 15, 64)            12352     \n",
      "_________________________________________________________________\n",
      "dropout (Dropout)            (None, 15, 64)            0         \n",
      "_________________________________________________________________\n",
      "max_pooling1d (MaxPooling1D) (None, 7, 64)             0         \n",
      "_________________________________________________________________\n",
      "flatten (Flatten)            (None, 448)               0         \n",
      "_________________________________________________________________\n",
      "dense (Dense)                (None, 1000)              449000    \n",
      "_________________________________________________________________\n",
      "dense_1 (Dense)              (None, 360)               360360    \n",
      "=================================================================\n",
      "Total params: 861,712\n",
      "Trainable params: 861,712\n",
      "Non-trainable params: 0\n",
      "_________________________________________________________________\n"
     ]
    }
   ],
   "source": [
    "model.summary()"
   ]
  },
  {
   "cell_type": "code",
   "execution_count": 50,
   "id": "1efcce9f",
   "metadata": {},
   "outputs": [
    {
     "name": "stdout",
     "output_type": "stream",
     "text": [
      "INFO:tensorflow:Assets written to: ../models/super_model\\assets\n",
      "INFO:tensorflow:Assets written to: C:\\Users\\tkhor\\AppData\\Local\\Temp\\tmpasv7b1lj\\assets\n"
     ]
    }
   ],
   "source": [
    "model.save(\"../models/super_model\")\n",
    "\n",
    "# Convert the model.\n",
    "converter = tf.lite.TFLiteConverter.from_keras_model(model)\n",
    "tflite_model = converter.convert()\n",
    "\n",
    "# Save the Lite model.\n",
    "with open('../models/super_azimuth_model.tflite', 'wb') as f:\n",
    "    f.write(tflite_model)"
   ]
  },
  {
   "cell_type": "markdown",
   "id": "db29e077",
   "metadata": {},
   "source": [
    "### Run experiment with different models"
   ]
  },
  {
   "cell_type": "code",
   "execution_count": null,
   "id": "8a74d6a1",
   "metadata": {
    "scrolled": false
   },
   "outputs": [
    {
     "name": "stdout",
     "output_type": "stream",
     "text": [
      "=== Model with 2 convolutional layers ===\n",
      "Max pooling: True\n",
      "Epoch 1/10\n",
      "19643/19643 [==============================] - 131s 7ms/step - loss: 1.2995 - accuracy: 0.4711\n",
      "Epoch 2/10\n",
      "19643/19643 [==============================] - 125s 6ms/step - loss: 0.8245 - accuracy: 0.6487\n",
      "Epoch 3/10\n",
      "19643/19643 [==============================] - 126s 6ms/step - loss: 0.7080 - accuracy: 0.7052\n",
      "Epoch 4/10\n",
      "19643/19643 [==============================] - 133s 7ms/step - loss: 0.6441 - accuracy: 0.7352\n",
      "Epoch 5/10\n",
      "19643/19643 [==============================] - 130s 7ms/step - loss: 0.6018 - accuracy: 0.7563\n",
      "Epoch 6/10\n",
      "19643/19643 [==============================] - 130s 7ms/step - loss: 0.5732 - accuracy: 0.7703\n",
      "Epoch 7/10\n",
      "19643/19643 [==============================] - 132s 7ms/step - loss: 0.5483 - accuracy: 0.7817\n",
      "Epoch 8/10\n",
      "19643/19643 [==============================] - 132s 7ms/step - loss: 0.5328 - accuracy: 0.7891\n",
      "Epoch 9/10\n",
      "19643/19643 [==============================] - 132s 7ms/step - loss: 0.5179 - accuracy: 0.7967\n",
      "Epoch 10/10\n",
      "19643/19643 [==============================] - 132s 7ms/step - loss: 0.5065 - accuracy: 0.8026\n",
      "Evaluation:\n",
      "6586/6586 [==============================] - 15s 2ms/step - loss: 0.6687 - accuracy: 0.7881\n",
      "Max pooling: False\n",
      "Epoch 1/10\n",
      "19643/19643 [==============================] - 194s 10ms/step - loss: 1.1461 - accuracy: 0.5382\n",
      "Epoch 2/10\n",
      "19643/19643 [==============================] - 196s 10ms/step - loss: 0.6530 - accuracy: 0.7301\n",
      "Epoch 3/10\n",
      "19643/19643 [==============================] - 197s 10ms/step - loss: 0.5422 - accuracy: 0.7812\n",
      "Epoch 4/10\n",
      "19643/19643 [==============================] - 202s 10ms/step - loss: 0.4860 - accuracy: 0.8068\n",
      "Epoch 5/10\n",
      "19643/19643 [==============================] - 202s 10ms/step - loss: 0.4474 - accuracy: 0.8246\n",
      "Epoch 6/10\n",
      "19643/19643 [==============================] - 200s 10ms/step - loss: 0.4235 - accuracy: 0.8358\n",
      "Epoch 7/10\n",
      "19643/19643 [==============================] - 197s 10ms/step - loss: 0.4035 - accuracy: 0.8448\n",
      "Epoch 8/10\n",
      "19643/19643 [==============================] - 197s 10ms/step - loss: 0.3895 - accuracy: 0.8514\n",
      "Epoch 9/10\n",
      "19643/19643 [==============================] - 198s 10ms/step - loss: 0.3774 - accuracy: 0.8569\n",
      "Epoch 10/10\n",
      "19643/19643 [==============================] - 201s 10ms/step - loss: 0.3674 - accuracy: 0.8618\n",
      "Evaluation:\n",
      "6586/6586 [==============================] - 17s 3ms/step - loss: 0.9164 - accuracy: 0.7698\n",
      "=====================================================\n",
      "\n",
      "=== Model with 3 convolutional layers ===\n",
      "Max pooling: True\n",
      "Epoch 1/10\n",
      "19643/19643 [==============================] - 134s 7ms/step - loss: 1.2642 - accuracy: 0.4823\n",
      "Epoch 2/10\n",
      "19643/19643 [==============================] - 136s 7ms/step - loss: 0.7839 - accuracy: 0.6681\n",
      "Epoch 3/10\n",
      "19643/19643 [==============================] - 138s 7ms/step - loss: 0.6578 - accuracy: 0.7299\n",
      "Epoch 4/10\n",
      "19643/19643 [==============================] - 138s 7ms/step - loss: 0.5900 - accuracy: 0.7633\n",
      "Epoch 5/10\n",
      "19643/19643 [==============================] - 137s 7ms/step - loss: 0.5456 - accuracy: 0.7843\n",
      "Epoch 6/10\n",
      "19643/19643 [==============================] - 137s 7ms/step - loss: 0.5155 - accuracy: 0.7989\n",
      "Epoch 7/10\n",
      "19643/19643 [==============================] - 135s 7ms/step - loss: 0.4882 - accuracy: 0.8116\n",
      "Epoch 8/10\n",
      "19643/19643 [==============================] - 136s 7ms/step - loss: 0.4710 - accuracy: 0.8197\n",
      "Epoch 9/10\n",
      "19643/19643 [==============================] - 139s 7ms/step - loss: 0.4539 - accuracy: 0.8268\n",
      "Epoch 10/10\n",
      "19643/19643 [==============================] - 140s 7ms/step - loss: 0.4416 - accuracy: 0.8329\n",
      "Evaluation:\n",
      "6586/6586 [==============================] - 16s 2ms/step - loss: 0.6401 - accuracy: 0.7995\n",
      "Max pooling: False\n",
      "Epoch 1/10\n",
      "19643/19643 [==============================] - 205s 10ms/step - loss: 1.0993 - accuracy: 0.5562\n",
      "Epoch 2/10\n",
      "19643/19643 [==============================] - 208s 11ms/step - loss: 0.6105 - accuracy: 0.7528\n",
      "Epoch 3/10\n",
      "19643/19643 [==============================] - 206s 10ms/step - loss: 0.5054 - accuracy: 0.8012\n",
      "Epoch 4/10\n",
      "19643/19643 [==============================] - 205s 10ms/step - loss: 0.4514 - accuracy: 0.8260\n",
      "Epoch 5/10\n",
      "19643/19643 [==============================] - 196s 10ms/step - loss: 0.4210 - accuracy: 0.8399\n",
      "Epoch 6/10\n",
      "19643/19643 [==============================] - 201s 10ms/step - loss: 0.3975 - accuracy: 0.8503\n",
      "Epoch 7/10\n",
      "19643/19643 [==============================] - 195s 10ms/step - loss: 0.3803 - accuracy: 0.8583\n",
      "Epoch 8/10\n",
      "19643/19643 [==============================] - 203s 10ms/step - loss: 0.3680 - accuracy: 0.8633\n",
      "Epoch 9/10\n",
      "19643/19643 [==============================] - 208s 11ms/step - loss: 0.3569 - accuracy: 0.8682\n",
      "Epoch 10/10\n",
      "19643/19643 [==============================] - 207s 11ms/step - loss: 0.3476 - accuracy: 0.8726\n",
      "Evaluation:\n",
      "6586/6586 [==============================] - 18s 3ms/step - loss: 0.6899 - accuracy: 0.8022\n",
      "=====================================================\n",
      "\n",
      "=== Model with 4 convolutional layers ===\n",
      "Max pooling: True\n",
      "Epoch 1/10\n",
      "19643/19643 [==============================] - 144s 7ms/step - loss: 1.1898 - accuracy: 0.5135\n",
      "Epoch 2/10\n",
      "19643/19643 [==============================] - 146s 7ms/step - loss: 0.6826 - accuracy: 0.7211\n",
      "Epoch 3/10\n",
      "19643/19643 [==============================] - 147s 7ms/step - loss: 0.5663 - accuracy: 0.7761\n",
      "Epoch 4/10\n",
      "19643/19643 [==============================] - 157s 8ms/step - loss: 0.5017 - accuracy: 0.8065\n",
      "Epoch 5/10\n",
      "19643/19643 [==============================] - 178s 9ms/step - loss: 0.4593 - accuracy: 0.8259\n",
      "Epoch 6/10\n",
      "19643/19643 [==============================] - 153s 8ms/step - loss: 0.4271 - accuracy: 0.8394\n",
      "Epoch 7/10\n",
      "19643/19643 [==============================] - 159s 8ms/step - loss: 0.4055 - accuracy: 0.8503\n",
      "Epoch 8/10\n",
      "19643/19643 [==============================] - 153s 8ms/step - loss: 0.3887 - accuracy: 0.8582\n",
      "Epoch 9/10\n",
      "19643/19643 [==============================] - 158s 8ms/step - loss: 0.3766 - accuracy: 0.8637\n",
      "Epoch 10/10\n",
      "19643/19643 [==============================] - 160s 8ms/step - loss: 0.3644 - accuracy: 0.8689\n",
      "Evaluation:\n",
      "6586/6586 [==============================] - 17s 3ms/step - loss: 0.5680 - accuracy: 0.8248\n",
      "Max pooling: False\n",
      "Epoch 1/10\n",
      "19643/19643 [==============================] - 212s 11ms/step - loss: 1.0391 - accuracy: 0.5840\n",
      "Epoch 2/10\n",
      "19643/19643 [==============================] - 212s 11ms/step - loss: 0.5583 - accuracy: 0.7796\n",
      "Epoch 3/10\n",
      "19643/19643 [==============================] - 215s 11ms/step - loss: 0.4646 - accuracy: 0.8232\n",
      "Epoch 4/10\n",
      "19643/19643 [==============================] - 211s 11ms/step - loss: 0.4141 - accuracy: 0.8455\n",
      "Epoch 5/10\n",
      "19643/19643 [==============================] - 211s 11ms/step - loss: 0.3847 - accuracy: 0.8582\n",
      "Epoch 6/10\n",
      "19643/19643 [==============================] - 211s 11ms/step - loss: 0.3643 - accuracy: 0.8676\n",
      "Epoch 7/10\n",
      "19643/19643 [==============================] - 213s 11ms/step - loss: 0.3495 - accuracy: 0.8738\n",
      "Epoch 8/10\n",
      "19643/19643 [==============================] - 212s 11ms/step - loss: 0.3395 - accuracy: 0.8781\n",
      "Epoch 9/10\n",
      "19643/19643 [==============================] - 217s 11ms/step - loss: 0.3292 - accuracy: 0.8832\n",
      "Epoch 10/10\n",
      "19643/19643 [==============================] - 212s 11ms/step - loss: 0.3225 - accuracy: 0.8864\n",
      "Evaluation:\n",
      "6586/6586 [==============================] - 20s 3ms/step - loss: 0.6558 - accuracy: 0.8124\n",
      "=====================================================\n",
      "\n",
      "=== Model with 5 convolutional layers ===\n",
      "Max pooling: True\n",
      "Epoch 1/10\n",
      "19643/19643 [==============================] - 160s 8ms/step - loss: 1.1996 - accuracy: 0.5100\n",
      "Epoch 2/10\n",
      "19643/19643 [==============================] - 159s 8ms/step - loss: 0.6618 - accuracy: 0.7334\n",
      "Epoch 3/10\n",
      "19643/19643 [==============================] - 157s 8ms/step - loss: 0.5191 - accuracy: 0.8005\n",
      "Epoch 4/10\n",
      "19643/19643 [==============================] - 157s 8ms/step - loss: 0.4468 - accuracy: 0.8336\n",
      "Epoch 5/10\n",
      "19643/19643 [==============================] - 156s 8ms/step - loss: 0.4080 - accuracy: 0.8518\n",
      "Epoch 6/10\n",
      "19643/19643 [==============================] - 155s 8ms/step - loss: 0.3820 - accuracy: 0.8635\n",
      "Epoch 7/10\n",
      "19643/19643 [==============================] - 153s 8ms/step - loss: 0.3664 - accuracy: 0.8704\n",
      "Epoch 8/10\n",
      "19643/19643 [==============================] - 145s 7ms/step - loss: 0.3529 - accuracy: 0.8766\n",
      "Epoch 9/10\n",
      "19643/19643 [==============================] - 146s 7ms/step - loss: 0.3420 - accuracy: 0.8821\n",
      "Epoch 10/10\n",
      "19643/19643 [==============================] - 143s 7ms/step - loss: 0.3358 - accuracy: 0.8850\n",
      "Evaluation:\n",
      "6586/6586 [==============================] - 18s 3ms/step - loss: 0.6330 - accuracy: 0.8366\n",
      "Max pooling: False\n",
      "Epoch 1/10\n",
      "19643/19643 [==============================] - 198s 10ms/step - loss: 1.0036 - accuracy: 0.6042\n",
      "Epoch 2/10\n",
      "19643/19643 [==============================] - 191s 10ms/step - loss: 0.5165 - accuracy: 0.8026\n",
      "Epoch 3/10\n",
      "19643/19643 [==============================] - 191s 10ms/step - loss: 0.4253 - accuracy: 0.8425\n",
      "Epoch 4/10\n",
      "19643/19643 [==============================] - 191s 10ms/step - loss: 0.3821 - accuracy: 0.8612\n",
      "Epoch 5/10\n",
      "19643/19643 [==============================] - 193s 10ms/step - loss: 0.3553 - accuracy: 0.8736\n",
      "Epoch 6/10\n",
      "19643/19643 [==============================] - 196s 10ms/step - loss: 0.3370 - accuracy: 0.8810\n",
      "Epoch 7/10\n",
      "19643/19643 [==============================] - 198s 10ms/step - loss: 0.3247 - accuracy: 0.8863\n",
      "Epoch 8/10\n",
      "19643/19643 [==============================] - 197s 10ms/step - loss: 0.3142 - accuracy: 0.8906\n",
      "Epoch 9/10\n",
      "19643/19643 [==============================] - 196s 10ms/step - loss: 0.3078 - accuracy: 0.8940\n",
      "Epoch 10/10\n",
      "17841/19643 [==========================>...] - ETA: 17s - loss: 0.3027 - accuracy: 0.8957"
     ]
    }
   ],
   "source": [
    "os.environ[\"CUDA_VISIBLE_DEVICES\"] = \"-1\"\n",
    "\n",
    "best_accuracy = 0\n",
    "best_model_specs = None\n",
    "\n",
    "for cnn_layers in range(2, 6):\n",
    "    print(f'=== Model with {cnn_layers} convolutional layers ===')\n",
    "    \n",
    "    for pooling in [True, False]:\n",
    "        print(f\"Max pooling: {pooling}\")\n",
    "        model, _ = create_model(X_train, y_train, X_test, y_test, cnn_layers=cnn_layers, pooling=pooling)\n",
    "        \n",
    "        print('Evaluation:')\n",
    "        loss, accuracy = model.evaluate(X_test, y_test, batch_size=batch_size, verbose=verbose)\n",
    "\n",
    "        if accuracy > best_accuracy:\n",
    "            best_model_specs = (model, cnn_layers, pooling)\n",
    "            best_accuracy = accuracy\n",
    "\n",
    "    print('=====================================================\\n')\n",
    "    \n",
    "print()\n",
    "print(\"RESULTS:\")\n",
    "print(f\"Best accuracy: {best_accuracy}\")\n",
    "\n",
    "best_model, best_layers, best_pooling = best_model_specs\n",
    "print(f\"CNN layers: {best_layers}\")\n",
    "print(f\"Best accuracy: {best_accuracy}\")\n",
    "print(f\"Best pooling: {best_pooling}\")"
   ]
  },
  {
   "cell_type": "code",
   "execution_count": 6,
   "id": "f787e33c",
   "metadata": {},
   "outputs": [
    {
     "name": "stdout",
     "output_type": "stream",
     "text": [
      "Model: \"sequential_8\"\n",
      "_________________________________________________________________\n",
      "Layer (type)                 Output Shape              Param #   \n",
      "=================================================================\n",
      "conv1d_25 (Conv1D)           (None, 23, 64)            2944      \n",
      "_________________________________________________________________\n",
      "conv1d_26 (Conv1D)           (None, 21, 64)            12352     \n",
      "_________________________________________________________________\n",
      "conv1d_27 (Conv1D)           (None, 19, 64)            12352     \n",
      "_________________________________________________________________\n",
      "conv1d_28 (Conv1D)           (None, 17, 64)            12352     \n",
      "_________________________________________________________________\n",
      "conv1d_29 (Conv1D)           (None, 15, 64)            12352     \n",
      "_________________________________________________________________\n",
      "dropout_8 (Dropout)          (None, 15, 64)            0         \n",
      "_________________________________________________________________\n",
      "flatten_8 (Flatten)          (None, 960)               0         \n",
      "_________________________________________________________________\n",
      "dense_16 (Dense)             (None, 1000)              961000    \n",
      "_________________________________________________________________\n",
      "dense_17 (Dense)             (None, 360)               360360    \n",
      "=================================================================\n",
      "Total params: 1,373,712\n",
      "Trainable params: 1,373,712\n",
      "Non-trainable params: 0\n",
      "_________________________________________________________________\n"
     ]
    }
   ],
   "source": [
    "best_model.summary()"
   ]
  },
  {
   "cell_type": "code",
   "execution_count": 12,
   "id": "7de0f35c",
   "metadata": {
    "scrolled": true
   },
   "outputs": [
    {
     "name": "stdout",
     "output_type": "stream",
     "text": [
      "6586/6586 [==============================] - 36s 6ms/step - loss: 0.6799 - accuracy: 0.8418\n",
      "Accuracy: 0.842\n",
      "RMSE: 12.431\n"
     ]
    }
   ],
   "source": [
    "# Test model\n",
    "accuracy = evaluate_model(best_model, X_test, y_test)\n",
    "print(f'Accuracy: {accuracy}')\n",
    "y_pred_nn = encoder.inverse_transform(best_model.predict(X_test))\n",
    "y_true_nn = encoder.inverse_transform(y_test)\n",
    "print(f'RMSE: {rmse(y_true_nn, y_pred_nn)}')"
   ]
  },
  {
   "cell_type": "code",
   "execution_count": 16,
   "id": "630c8f97",
   "metadata": {},
   "outputs": [
    {
     "name": "stdout",
     "output_type": "stream",
     "text": [
      "Room sizes\n",
      "small room accuracy: 0.838\n",
      "medium room accuracy: 0.841\n",
      "large room accuracy: 0.846\n",
      "\n",
      "Distances\n",
      "50 cm distance accuracy: 0.636\n",
      "150 cm distance accuracy: 0.955\n",
      "200 cm distance accuracy: 0.959\n",
      "250 cm distance accuracy: 0.943\n",
      "350 cm distance accuracy: 0.927\n",
      "450 cm distance accuracy: 0.937\n"
     ]
    }
   ],
   "source": [
    "# Evaluate performance for different properties\n",
    "print('Room sizes')\n",
    "for room in ROOMS:\n",
    "    _, acc = evaluate_for_property(df_train, df_test, 'room', room)\n",
    "    print(f\"{room} room accuracy: {acc}\")\n",
    "    \n",
    "print('\\nDistances')\n",
    "for dist in np.unique(df_test.dist):\n",
    "    _, acc = evaluate_for_property(df_train, df_test, 'dist', dist)\n",
    "    print(f\"{dist} cm distance accuracy: {acc}\")"
   ]
  },
  {
   "cell_type": "code",
   "execution_count": null,
   "id": "9daec8b7",
   "metadata": {},
   "outputs": [],
   "source": [
    "best_model.save(\"../models/best_super_model\")\n",
    "\n",
    "# Convert the model.\n",
    "converter = tf.lite.TFLiteConverter.from_keras_model(best_model)\n",
    "tflite_model = converter.convert()\n",
    "\n",
    "# Save the Lite model.\n",
    "with open('../models/best_super_azimuth_model.tflite', 'wb') as f:\n",
    "    f.write(tflite_model)"
   ]
  },
  {
   "cell_type": "markdown",
   "id": "90666a55",
   "metadata": {},
   "source": [
    "### Experiment with CNN-LSTM model"
   ]
  },
  {
   "cell_type": "code",
   "execution_count": 9,
   "id": "ee5979c8",
   "metadata": {
    "scrolled": false
   },
   "outputs": [
    {
     "name": "stdout",
     "output_type": "stream",
     "text": [
      "=== Model with 2 convolutional layers and LSTM layer ===\n",
      "Max pooling: True\n",
      "Epoch 1/10\n",
      "19643/19643 [==============================] - 310s 16ms/step - loss: 1.2800 - accuracy: 0.4820\n",
      "Epoch 2/10\n",
      "19643/19643 [==============================] - 307s 16ms/step - loss: 0.7234 - accuracy: 0.6993\n",
      "Epoch 3/10\n",
      "19643/19643 [==============================] - 321s 16ms/step - loss: 0.5884 - accuracy: 0.7615\n",
      "Epoch 4/10\n",
      "19643/19643 [==============================] - 305s 16ms/step - loss: 0.5181 - accuracy: 0.7935\n",
      "Epoch 5/10\n",
      "19643/19643 [==============================] - 306s 16ms/step - loss: 0.4702 - accuracy: 0.8146\n",
      "Epoch 6/10\n",
      "19643/19643 [==============================] - 308s 16ms/step - loss: 0.4329 - accuracy: 0.8304\n",
      "Epoch 7/10\n",
      "19643/19643 [==============================] - 310s 16ms/step - loss: 0.4052 - accuracy: 0.8421\n",
      "Epoch 8/10\n",
      "19643/19643 [==============================] - 310s 16ms/step - loss: 0.3845 - accuracy: 0.8508\n",
      "Epoch 9/10\n",
      "19643/19643 [==============================] - 311s 16ms/step - loss: 0.3658 - accuracy: 0.8587\n",
      "Epoch 10/10\n",
      "19643/19643 [==============================] - 310s 16ms/step - loss: 0.3493 - accuracy: 0.8654\n",
      "Evaluation:\n",
      "6586/6586 [==============================] - 30s 5ms/step - loss: 0.7999 - accuracy: 0.7547\n",
      "Max pooling: False\n",
      "Epoch 1/10\n",
      "19643/19643 [==============================] - 487s 25ms/step - loss: 1.1465 - accuracy: 0.5411\n",
      "Epoch 2/10\n",
      "19643/19643 [==============================] - 484s 25ms/step - loss: 0.5587 - accuracy: 0.7766\n",
      "Epoch 3/10\n",
      "19643/19643 [==============================] - 482s 25ms/step - loss: 0.4254 - accuracy: 0.8351\n",
      "Epoch 4/10\n",
      "19643/19643 [==============================] - 471s 24ms/step - loss: 0.3580 - accuracy: 0.8633\n",
      "Epoch 5/10\n",
      "19643/19643 [==============================] - 461s 23ms/step - loss: 0.3161 - accuracy: 0.8801\n",
      "Epoch 6/10\n",
      "19643/19643 [==============================] - 459s 23ms/step - loss: 0.2847 - accuracy: 0.8929\n",
      "Epoch 7/10\n",
      "19643/19643 [==============================] - 456s 23ms/step - loss: 0.2608 - accuracy: 0.9024\n",
      "Epoch 8/10\n",
      "19643/19643 [==============================] - 458s 23ms/step - loss: 0.2438 - accuracy: 0.9090\n",
      "Epoch 9/10\n",
      "19643/19643 [==============================] - 455s 23ms/step - loss: 0.2296 - accuracy: 0.9143\n",
      "Epoch 10/10\n",
      "19643/19643 [==============================] - 460s 23ms/step - loss: 0.2186 - accuracy: 0.9189\n",
      "Evaluation:\n",
      "6586/6586 [==============================] - 45s 7ms/step - loss: 1.0557 - accuracy: 0.7133\n",
      "=====================================================\n",
      "\n",
      "=== Model with 3 convolutional layers and LSTM layer ===\n",
      "Max pooling: True\n",
      "Epoch 1/10\n",
      "19643/19643 [==============================] - 297s 15ms/step - loss: 1.1739 - accuracy: 0.5330\n",
      "Epoch 2/10\n",
      "19643/19643 [==============================] - 293s 15ms/step - loss: 0.6266 - accuracy: 0.7472\n",
      "Epoch 3/10\n",
      "19643/19643 [==============================] - 286s 15ms/step - loss: 0.5066 - accuracy: 0.8008\n",
      "Epoch 4/10\n",
      "19643/19643 [==============================] - 281s 14ms/step - loss: 0.4424 - accuracy: 0.8287\n",
      "Epoch 5/10\n",
      "19643/19643 [==============================] - 291s 15ms/step - loss: 0.4010 - accuracy: 0.8460\n",
      "Epoch 6/10\n",
      "19643/19643 [==============================] - 287s 15ms/step - loss: 0.3710 - accuracy: 0.8584\n",
      "Epoch 7/10\n",
      "19643/19643 [==============================] - 284s 14ms/step - loss: 0.3484 - accuracy: 0.8682\n",
      "Epoch 8/10\n",
      "19643/19643 [==============================] - 288s 15ms/step - loss: 0.3308 - accuracy: 0.8752\n",
      "Epoch 9/10\n",
      "19643/19643 [==============================] - 279s 14ms/step - loss: 0.3156 - accuracy: 0.8814\n",
      "Epoch 10/10\n",
      "19643/19643 [==============================] - 280s 14ms/step - loss: 0.3026 - accuracy: 0.8865\n",
      "Evaluation:\n",
      "6586/6586 [==============================] - 29s 4ms/step - loss: 0.7740 - accuracy: 0.7930\n",
      "Max pooling: False\n",
      "Epoch 1/10\n",
      "19643/19643 [==============================] - 442s 22ms/step - loss: 1.0961 - accuracy: 0.5665\n",
      "Epoch 2/10\n",
      "19643/19643 [==============================] - 464s 24ms/step - loss: 0.5177 - accuracy: 0.7962\n",
      "Epoch 3/10\n",
      "19643/19643 [==============================] - 459s 23ms/step - loss: 0.3983 - accuracy: 0.8481\n",
      "Epoch 4/10\n",
      "19643/19643 [==============================] - 469s 24ms/step - loss: 0.3350 - accuracy: 0.8744\n",
      "Epoch 5/10\n",
      "19643/19643 [==============================] - 466s 24ms/step - loss: 0.2952 - accuracy: 0.8906\n",
      "Epoch 6/10\n",
      "19643/19643 [==============================] - 468s 24ms/step - loss: 0.2689 - accuracy: 0.9013\n",
      "Epoch 7/10\n",
      "19643/19643 [==============================] - 489s 25ms/step - loss: 0.2488 - accuracy: 0.9088\n",
      "Epoch 8/10\n",
      "19643/19643 [==============================] - 491s 25ms/step - loss: 0.2320 - accuracy: 0.9154\n",
      "Epoch 9/10\n",
      "19643/19643 [==============================] - 478s 24ms/step - loss: 0.2204 - accuracy: 0.9199\n",
      "Epoch 10/10\n",
      "19643/19643 [==============================] - 471s 24ms/step - loss: 0.2113 - accuracy: 0.9232\n",
      "Evaluation:\n",
      "6586/6586 [==============================] - 46s 7ms/step - loss: 0.8162 - accuracy: 0.7787\n",
      "=====================================================\n",
      "\n",
      "=== Model with 4 convolutional layers and LSTM layer ===\n",
      "Max pooling: True\n",
      "Epoch 1/10\n",
      "19643/19643 [==============================] - 321s 16ms/step - loss: 1.1460 - accuracy: 0.5511\n",
      "Epoch 2/10\n",
      "19643/19643 [==============================] - 316s 16ms/step - loss: 0.5910 - accuracy: 0.7654\n",
      "Epoch 3/10\n",
      "19643/19643 [==============================] - 322s 16ms/step - loss: 0.4759 - accuracy: 0.8166\n",
      "Epoch 4/10\n",
      "19643/19643 [==============================] - 301s 15ms/step - loss: 0.4167 - accuracy: 0.8427\n",
      "Epoch 5/10\n",
      "19643/19643 [==============================] - 300s 15ms/step - loss: 0.3792 - accuracy: 0.8583\n",
      "Epoch 6/10\n",
      "19643/19643 [==============================] - 297s 15ms/step - loss: 0.3511 - accuracy: 0.8706\n",
      "Epoch 7/10\n",
      "19643/19643 [==============================] - 300s 15ms/step - loss: 0.3357 - accuracy: 0.8773\n",
      "Epoch 8/10\n",
      "19643/19643 [==============================] - 296s 15ms/step - loss: 0.3209 - accuracy: 0.8832\n",
      "Epoch 9/10\n",
      "19643/19643 [==============================] - 296s 15ms/step - loss: 0.3104 - accuracy: 0.8876\n",
      "Epoch 10/10\n",
      "19643/19643 [==============================] - 294s 15ms/step - loss: 0.3027 - accuracy: 0.8911\n",
      "Evaluation:\n",
      "6586/6586 [==============================] - 34s 5ms/step - loss: 0.9015 - accuracy: 0.7815\n",
      "Max pooling: False\n",
      "Epoch 1/10\n",
      "19643/19643 [==============================] - 447s 23ms/step - loss: 1.0383 - accuracy: 0.5934\n",
      "Epoch 2/10\n",
      "19643/19643 [==============================] - 449s 23ms/step - loss: 0.4676 - accuracy: 0.8210\n",
      "Epoch 3/10\n",
      "19643/19643 [==============================] - 447s 23ms/step - loss: 0.3633 - accuracy: 0.8655\n",
      "Epoch 4/10\n",
      "19643/19643 [==============================] - 477s 24ms/step - loss: 0.3133 - accuracy: 0.8854\n",
      "Epoch 5/10\n",
      "19643/19643 [==============================] - 504s 26ms/step - loss: 0.2825 - accuracy: 0.8981\n",
      "Epoch 6/10\n",
      "19643/19643 [==============================] - 499s 25ms/step - loss: 0.2619 - accuracy: 0.9060\n",
      "Epoch 7/10\n",
      "19643/19643 [==============================] - 486s 25ms/step - loss: 0.2463 - accuracy: 0.9123\n",
      "Epoch 8/10\n",
      "19643/19643 [==============================] - 485s 25ms/step - loss: 0.2335 - accuracy: 0.9167\n",
      "Epoch 9/10\n",
      "19643/19643 [==============================] - 485s 25ms/step - loss: 0.2247 - accuracy: 0.9203\n",
      "Epoch 10/10\n",
      "19643/19643 [==============================] - 484s 25ms/step - loss: 0.2174 - accuracy: 0.9231\n",
      "Evaluation:\n",
      "6586/6586 [==============================] - 102s 15ms/step - loss: 0.8760 - accuracy: 0.8087\n",
      "=====================================================\n",
      "\n",
      "=== Model with 5 convolutional layers and LSTM layer ===\n",
      "Max pooling: True\n",
      "Epoch 1/10\n",
      "19643/19643 [==============================] - 296s 15ms/step - loss: 1.2643 - accuracy: 0.4991\n",
      "Epoch 2/10\n",
      "19643/19643 [==============================] - 298s 15ms/step - loss: 0.6421 - accuracy: 0.7442\n",
      "Epoch 3/10\n",
      "19643/19643 [==============================] - 299s 15ms/step - loss: 0.4954 - accuracy: 0.8112\n",
      "Epoch 4/10\n",
      "19643/19643 [==============================] - 299s 15ms/step - loss: 0.4285 - accuracy: 0.8403\n",
      "Epoch 5/10\n",
      "19643/19643 [==============================] - 300s 15ms/step - loss: 0.3860 - accuracy: 0.8580\n",
      "Epoch 6/10\n",
      "19643/19643 [==============================] - 299s 15ms/step - loss: 0.3570 - accuracy: 0.8703\n",
      "Epoch 7/10\n",
      "19643/19643 [==============================] - 299s 15ms/step - loss: 0.3357 - accuracy: 0.8794\n",
      "Epoch 8/10\n",
      "19643/19643 [==============================] - 299s 15ms/step - loss: 0.3217 - accuracy: 0.8850\n",
      "Epoch 9/10\n",
      "19643/19643 [==============================] - 307s 16ms/step - loss: 0.3077 - accuracy: 0.8906\n",
      "Epoch 10/10\n",
      "19643/19643 [==============================] - 309s 16ms/step - loss: 0.3005 - accuracy: 0.8940\n",
      "Evaluation:\n",
      "6586/6586 [==============================] - 63s 9ms/step - loss: 0.7780 - accuracy: 0.7952\n",
      "Max pooling: False\n",
      "Epoch 1/10\n",
      "19643/19643 [==============================] - 30727s 2s/step - loss: 1.0283 - accuracy: 0.6075\n",
      "Epoch 2/10\n",
      "19643/19643 [==============================] - 426s 22ms/step - loss: 0.4593 - accuracy: 0.8270\n",
      "Epoch 3/10\n",
      "19643/19643 [==============================] - 419s 21ms/step - loss: 0.3601 - accuracy: 0.8692\n",
      "Epoch 4/10\n",
      "19643/19643 [==============================] - 416s 21ms/step - loss: 0.3123 - accuracy: 0.8883\n",
      "Epoch 5/10\n",
      "19643/19643 [==============================] - 424s 22ms/step - loss: 0.2825 - accuracy: 0.9001\n",
      "Epoch 6/10\n",
      "19643/19643 [==============================] - 422s 21ms/step - loss: 0.2642 - accuracy: 0.9078\n",
      "Epoch 7/10\n",
      "19643/19643 [==============================] - 427s 22ms/step - loss: 0.2528 - accuracy: 0.9121\n",
      "Epoch 8/10\n",
      "19643/19643 [==============================] - 421s 21ms/step - loss: 0.2419 - accuracy: 0.9160\n",
      "Epoch 9/10\n",
      "19643/19643 [==============================] - 434s 22ms/step - loss: 0.2357 - accuracy: 0.9192\n",
      "Epoch 10/10\n",
      "19643/19643 [==============================] - 441s 22ms/step - loss: 0.2307 - accuracy: 0.9207\n",
      "Evaluation:\n",
      "6586/6586 [==============================] - 47s 7ms/step - loss: 0.6333 - accuracy: 0.8215\n",
      "=====================================================\n",
      "\n",
      "\n",
      "RESULTS:\n",
      "Best accuracy: 0.8214909434318542\n",
      "CNN layers: 5\n",
      "Best pooling: False\n"
     ]
    }
   ],
   "source": [
    "os.environ[\"CUDA_VISIBLE_DEVICES\"] = \"-1\"\n",
    "\n",
    "best_lstm_accuracy = 0\n",
    "best_lstm_model_specs = None\n",
    "\n",
    "for cnn_layers in range(2, 6):\n",
    "    print(f'=== Model with {cnn_layers} convolutional layers and LSTM layer ===')\n",
    "    \n",
    "    for pooling in [True, False]:\n",
    "        print(f\"Max pooling: {pooling}\")\n",
    "        model, _ = create_model(X_train, y_train, X_test, y_test, cnn_layers=cnn_layers, pooling=pooling, lstm=True)\n",
    "        \n",
    "        print('Evaluation:')\n",
    "        loss, accuracy = model.evaluate(X_test, y_test, batch_size=batch_size, verbose=verbose)\n",
    "\n",
    "        if accuracy > best_lstm_accuracy:\n",
    "            best_lstm_model_specs = (model, cnn_layers, pooling)\n",
    "            best_lstm_accuracy = accuracy\n",
    "\n",
    "    print('=====================================================\\n')\n",
    "    \n",
    "print()\n",
    "print(\"RESULTS:\")\n",
    "print(f\"Best accuracy: {best_lstm_accuracy}\")\n",
    "\n",
    "best_lstm_model, best_lstm_layers, best_lstm_pooling = best_lstm_model_specs\n",
    "print(f\"CNN layers: {best_lstm_layers}\")\n",
    "print(f\"Best pooling: {best_lstm_pooling}\")"
   ]
  },
  {
   "cell_type": "code",
   "execution_count": 10,
   "id": "162c8a80",
   "metadata": {},
   "outputs": [
    {
     "name": "stdout",
     "output_type": "stream",
     "text": [
      "Model: \"sequential_8\"\n",
      "_________________________________________________________________\n",
      "Layer (type)                 Output Shape              Param #   \n",
      "=================================================================\n",
      "conv1d_25 (Conv1D)           (None, 23, 64)            2944      \n",
      "_________________________________________________________________\n",
      "conv1d_26 (Conv1D)           (None, 21, 64)            12352     \n",
      "_________________________________________________________________\n",
      "conv1d_27 (Conv1D)           (None, 19, 64)            12352     \n",
      "_________________________________________________________________\n",
      "conv1d_28 (Conv1D)           (None, 17, 64)            12352     \n",
      "_________________________________________________________________\n",
      "conv1d_29 (Conv1D)           (None, 15, 64)            12352     \n",
      "_________________________________________________________________\n",
      "dropout_8 (Dropout)          (None, 15, 64)            0         \n",
      "_________________________________________________________________\n",
      "lstm_8 (LSTM)                (None, 15, 128)           98816     \n",
      "_________________________________________________________________\n",
      "flatten_8 (Flatten)          (None, 1920)              0         \n",
      "_________________________________________________________________\n",
      "dense_16 (Dense)             (None, 1000)              1921000   \n",
      "_________________________________________________________________\n",
      "dense_17 (Dense)             (None, 360)               360360    \n",
      "=================================================================\n",
      "Total params: 2,432,528\n",
      "Trainable params: 2,432,528\n",
      "Non-trainable params: 0\n",
      "_________________________________________________________________\n"
     ]
    }
   ],
   "source": [
    "best_lstm_model.summary()"
   ]
  },
  {
   "cell_type": "code",
   "execution_count": 11,
   "id": "75db4a9f",
   "metadata": {},
   "outputs": [
    {
     "name": "stdout",
     "output_type": "stream",
     "text": [
      "6586/6586 [==============================] - 46s 7ms/step - loss: 0.6333 - accuracy: 0.8215\n",
      "Accuracy: 0.821\n",
      "RMSE: 10.83\n"
     ]
    }
   ],
   "source": [
    "# Test model\n",
    "accuracy = evaluate_model(best_lstm_model, X_test, y_test)\n",
    "print(f'Accuracy: {accuracy}')\n",
    "y_pred_nn = encoder.inverse_transform(best_lstm_model.predict(X_test))\n",
    "y_true_nn = encoder.inverse_transform(y_test)\n",
    "print(f'RMSE: {rmse(y_true_nn, y_pred_nn)}')"
   ]
  },
  {
   "cell_type": "code",
   "execution_count": 13,
   "id": "139100ea",
   "metadata": {},
   "outputs": [
    {
     "name": "stdout",
     "output_type": "stream",
     "text": [
      "Room sizes\n",
      "small room accuracy: 0.819\n",
      "medium room accuracy: 0.818\n",
      "large room accuracy: 0.827\n",
      "\n",
      "Distances\n",
      "50 cm distance accuracy: 0.589\n",
      "150 cm distance accuracy: 0.941\n",
      "200 cm distance accuracy: 0.949\n",
      "250 cm distance accuracy: 0.94\n",
      "350 cm distance accuracy: 0.92\n",
      "450 cm distance accuracy: 0.93\n"
     ]
    }
   ],
   "source": [
    "# Evaluate performance for different properties\n",
    "print('Room sizes')\n",
    "for room in ROOMS:\n",
    "    _, acc = evaluate_for_property(df_train, df_test, 'room', room)\n",
    "    print(f\"{room} room accuracy: {acc}\")\n",
    "    \n",
    "print('\\nDistances')\n",
    "for dist in np.unique(df_test.dist):\n",
    "    _, acc = evaluate_for_property(df_train, df_test, 'dist', dist)\n",
    "    print(f\"{dist} cm distance accuracy: {acc}\")"
   ]
  },
  {
   "cell_type": "code",
   "execution_count": 15,
   "id": "1e6da477",
   "metadata": {},
   "outputs": [
    {
     "name": "stderr",
     "output_type": "stream",
     "text": [
      "WARNING:absl:Found untraced functions such as lstm_cell_8_layer_call_fn, lstm_cell_8_layer_call_and_return_conditional_losses, lstm_cell_8_layer_call_fn, lstm_cell_8_layer_call_and_return_conditional_losses, lstm_cell_8_layer_call_and_return_conditional_losses while saving (showing 5 of 5). These functions will not be directly callable after loading.\n"
     ]
    },
    {
     "name": "stdout",
     "output_type": "stream",
     "text": [
      "INFO:tensorflow:Assets written to: ../models/best_lstm_super_model\\assets\n"
     ]
    },
    {
     "name": "stderr",
     "output_type": "stream",
     "text": [
      "INFO:tensorflow:Assets written to: ../models/best_lstm_super_model\\assets\n",
      "WARNING:absl:Found untraced functions such as lstm_cell_8_layer_call_fn, lstm_cell_8_layer_call_and_return_conditional_losses, lstm_cell_8_layer_call_fn, lstm_cell_8_layer_call_and_return_conditional_losses, lstm_cell_8_layer_call_and_return_conditional_losses while saving (showing 5 of 5). These functions will not be directly callable after loading.\n"
     ]
    },
    {
     "name": "stdout",
     "output_type": "stream",
     "text": [
      "INFO:tensorflow:Assets written to: C:\\Users\\tkhor\\AppData\\Local\\Temp\\tmp6al03d2m\\assets\n"
     ]
    },
    {
     "name": "stderr",
     "output_type": "stream",
     "text": [
      "INFO:tensorflow:Assets written to: C:\\Users\\tkhor\\AppData\\Local\\Temp\\tmp6al03d2m\\assets\n"
     ]
    }
   ],
   "source": [
    "best_lstm_model.save(\"../models/best_lstm_super_model\")\n",
    "\n",
    "# Convert the model.\n",
    "converter = tf.lite.TFLiteConverter.from_keras_model(best_lstm_model)\n",
    "tflite_model = converter.convert()\n",
    "\n",
    "# Save the Lite model.\n",
    "with open('../models/best_lstm_super_azimuth_model.tflite', 'wb') as f:\n",
    "    f.write(tflite_model)"
   ]
  },
  {
   "cell_type": "markdown",
   "id": "92237590",
   "metadata": {},
   "source": [
    "### Compare to MUSIC baseline"
   ]
  },
  {
   "cell_type": "code",
   "execution_count": 19,
   "id": "753fbce0",
   "metadata": {},
   "outputs": [
    {
     "name": "stdout",
     "output_type": "stream",
     "text": [
      "File 3240/3240\n",
      "Accuracy: 0.29\n",
      "RMSE: 2.183\n"
     ]
    }
   ],
   "source": [
    "y_true, y_pred, info = get_all_predictions(True, samples=SAMPLES, step=STEP, resolution=RESOLUTION)\n",
    "print()\n",
    "accuracy = accuracy_score(y_true, y_pred)\n",
    "print(f'Accuracy: {round(accuracy, 3)}')\n",
    "print(f'RMSE: {rmse(y_true, y_pred)}')"
   ]
  },
  {
   "cell_type": "code",
   "execution_count": 20,
   "id": "8557e14e",
   "metadata": {},
   "outputs": [
    {
     "name": "stdout",
     "output_type": "stream",
     "text": [
      "Room sizes\n",
      "small room accuracy: 0.232\n",
      "medium room accuracy: 0.279\n",
      "large room accuracy: 0.359\n",
      "\n",
      "Distances\n",
      "150 cm distance accuracy: 0.158\n",
      "200 cm distance accuracy: 0.27\n",
      "250 cm distance accuracy: 0.246\n",
      "350 cm distance accuracy: 0.224\n",
      "450 cm distance accuracy: 0.291\n",
      "50 cm distance accuracy: 0.394\n"
     ]
    }
   ],
   "source": [
    "def get_entries_with_property(info, prop, value):\n",
    "    if prop == 'distance': i = 0\n",
    "    elif prop == 'room': i = 1\n",
    "        \n",
    "    info = info[:, i]\n",
    "    return np.where(info == value)\n",
    "\n",
    "# Evaluate performance for different properties\n",
    "print('Room sizes')\n",
    "for room in ROOMS:\n",
    "    indices = get_entries_with_property(info, 'room', room)\n",
    "    y_true_room, y_pred_room = np.take(y_true, indices)[0], np.take(y_pred, indices)[0]\n",
    "    accuracy = accuracy_score(y_true_room, y_pred_room)\n",
    "    print(f\"{room} room accuracy: {round(accuracy, 3)}\")\n",
    "    \n",
    "print('\\nDistances')\n",
    "for dist in np.unique(info[:, 0]):\n",
    "    indices = get_entries_with_property(info, 'distance', dist)\n",
    "    y_true_dist, y_pred_dist = np.take(y_true, indices)[0], np.take(y_pred, indices)[0]\n",
    "    accuracy = accuracy_score(y_true_dist, y_pred_dist)\n",
    "    print(f\"{dist} cm distance accuracy: {round(accuracy, 3)}\")"
   ]
  },
  {
   "cell_type": "markdown",
   "id": "dce3957b",
   "metadata": {},
   "source": [
    "### Model quantization for TPU"
   ]
  },
  {
   "cell_type": "code",
   "execution_count": 11,
   "id": "1f3fc4ba",
   "metadata": {},
   "outputs": [],
   "source": [
    "import tensorflow_model_optimization as tfmot\n",
    "quantize_model = tfmot.quantization.keras.quantize_model"
   ]
  },
  {
   "cell_type": "code",
   "execution_count": 12,
   "id": "61a2d0fb",
   "metadata": {},
   "outputs": [
    {
     "data": {
      "text/plain": [
       "((628560, 25, 15, 1), (210740, 25, 15, 1))"
      ]
     },
     "execution_count": 12,
     "metadata": {},
     "output_type": "execute_result"
    }
   ],
   "source": [
    "X_train_quant = X_train[..., np.newaxis]\n",
    "X_test_quant = X_test[..., np.newaxis]\n",
    "X_train_quant.shape, X_test_quant.shape"
   ]
  },
  {
   "cell_type": "markdown",
   "id": "1cffcfa9",
   "metadata": {},
   "source": [
    "Verify if features are created correctly:"
   ]
  },
  {
   "cell_type": "code",
   "execution_count": 13,
   "id": "2e2e03ae",
   "metadata": {},
   "outputs": [
    {
     "data": {
      "image/png": "[encoded data removed]",
      "text/plain": [
       "<Figure size 288x480 with 1 Axes>"
      ]
     },
     "metadata": {},
     "output_type": "display_data"
    }
   ],
   "source": [
    "plt.matshow(X_train_quant[30][:, :, 0], aspect=0.5)\n",
    "plt.show()"
   ]
  },
  {
   "cell_type": "markdown",
   "id": "e26b9048",
   "metadata": {},
   "source": [
    "#### Create a standard Conv2D model - for compatiblility with TPU"
   ]
  },
  {
   "cell_type": "code",
   "execution_count": 14,
   "id": "778faba5",
   "metadata": {},
   "outputs": [],
   "source": [
    "# Run this if the model is already saved\n",
    "model = load_model(\"../models/quant_model\")"
   ]
  },
  {
   "cell_type": "code",
   "execution_count": 15,
   "id": "e095ea48",
   "metadata": {},
   "outputs": [],
   "source": [
    "epochs, batch_size, verbose = 10, 32, 1\n",
    "n_timesteps, n_features, n_outputs = X_train_quant.shape[1], X_train_quant.shape[2], y_train.shape[1]"
   ]
  },
  {
   "cell_type": "code",
   "execution_count": 14,
   "id": "ef6edcbf",
   "metadata": {},
   "outputs": [],
   "source": [
    "# Init model\n",
    "model = Sequential()\n",
    "\n",
    "# Add layers\n",
    "model.add(Conv2D(filters=64, kernel_size=(3, n_features), activation='relu', input_shape=(n_timesteps, n_features, 1)))\n",
    "model.add(Conv2D(filters=64, kernel_size=(3, 1), activation='relu'))\n",
    "model.add(Conv2D(filters=64, kernel_size=(3, 1), activation='relu'))\n",
    "model.add(Conv2D(filters=64, kernel_size=(3, 1), activation='relu'))\n",
    "model.add(Conv2D(filters=64, kernel_size=(3, 1), activation='relu'))\n",
    "model.add(Dropout(0.5))\n",
    "model.add(Flatten())\n",
    "model.add(Dense(1000, activation='relu'))\n",
    "model.add(Dense(n_outputs, activation='softmax'))\n",
    "model.compile(loss='categorical_crossentropy', optimizer='adam', metrics=['accuracy'])"
   ]
  },
  {
   "cell_type": "code",
   "execution_count": 16,
   "id": "fdff3a8a",
   "metadata": {},
   "outputs": [
    {
     "name": "stdout",
     "output_type": "stream",
     "text": [
      "Model: \"sequential_1\"\n",
      "_________________________________________________________________\n",
      "Layer (type)                 Output Shape              Param #   \n",
      "=================================================================\n",
      "conv2d_5 (Conv2D)            (None, 23, 1, 64)         2944      \n",
      "_________________________________________________________________\n",
      "conv2d_6 (Conv2D)            (None, 21, 1, 64)         12352     \n",
      "_________________________________________________________________\n",
      "conv2d_7 (Conv2D)            (None, 19, 1, 64)         12352     \n",
      "_________________________________________________________________\n",
      "conv2d_8 (Conv2D)            (None, 17, 1, 64)         12352     \n",
      "_________________________________________________________________\n",
      "conv2d_9 (Conv2D)            (None, 15, 1, 64)         12352     \n",
      "_________________________________________________________________\n",
      "dropout_1 (Dropout)          (None, 15, 1, 64)         0         \n",
      "_________________________________________________________________\n",
      "flatten_1 (Flatten)          (None, 960)               0         \n",
      "_________________________________________________________________\n",
      "dense_2 (Dense)              (None, 1000)              961000    \n",
      "_________________________________________________________________\n",
      "dense_3 (Dense)              (None, 360)               360360    \n",
      "=================================================================\n",
      "Total params: 1,373,712\n",
      "Trainable params: 1,373,712\n",
      "Non-trainable params: 0\n",
      "_________________________________________________________________\n"
     ]
    }
   ],
   "source": [
    "model.summary()"
   ]
  },
  {
   "cell_type": "code",
   "execution_count": 16,
   "id": "c224aa97",
   "metadata": {},
   "outputs": [
    {
     "name": "stdout",
     "output_type": "stream",
     "text": [
      "Epoch 1/10\n",
      "19643/19643 [==============================] - 118s 6ms/step - loss: 1.0695 - accuracy: 0.5833\n",
      "Epoch 2/10\n",
      "19643/19643 [==============================] - 111s 6ms/step - loss: 0.5493 - accuracy: 0.7876\n",
      "Epoch 3/10\n",
      "19643/19643 [==============================] - 111s 6ms/step - loss: 0.4506 - accuracy: 0.8320\n",
      "Epoch 4/10\n",
      "19643/19643 [==============================] - 111s 6ms/step - loss: 0.4048 - accuracy: 0.8520\n",
      "Epoch 5/10\n",
      "19643/19643 [==============================] - 111s 6ms/step - loss: 0.3764 - accuracy: 0.8644\n",
      "Epoch 6/10\n",
      "19643/19643 [==============================] - 110s 6ms/step - loss: 0.3594 - accuracy: 0.8717\n",
      "Epoch 7/10\n",
      "19643/19643 [==============================] - 111s 6ms/step - loss: 0.3431 - accuracy: 0.8792\n",
      "Epoch 8/10\n",
      "19643/19643 [==============================] - 112s 6ms/step - loss: 0.3340 - accuracy: 0.8834\n",
      "Epoch 9/10\n",
      "19643/19643 [==============================] - 111s 6ms/step - loss: 0.3245 - accuracy: 0.8873\n",
      "Epoch 10/10\n",
      "19643/19643 [==============================] - 110s 6ms/step - loss: 0.3182 - accuracy: 0.8903\n"
     ]
    },
    {
     "data": {
      "text/plain": [
       "<keras.callbacks.History at 0x1adebb45610>"
      ]
     },
     "execution_count": 16,
     "metadata": {},
     "output_type": "execute_result"
    }
   ],
   "source": [
    "history = model.fit(X_train_quant, y_train, epochs=epochs, batch_size=batch_size, verbose=verbose)"
   ]
  },
  {
   "cell_type": "markdown",
   "id": "88d222a0",
   "metadata": {},
   "source": [
    "#### Evaluate the standard (non-quantized) model"
   ]
  },
  {
   "cell_type": "code",
   "execution_count": 17,
   "id": "8a3c625b",
   "metadata": {},
   "outputs": [
    {
     "name": "stdout",
     "output_type": "stream",
     "text": [
      "6586/6586 [==============================] - 22s 3ms/step - loss: 0.5715 - accuracy: 0.8341\n"
     ]
    },
    {
     "data": {
      "text/plain": [
       "[0.5714851021766663, 0.8340941667556763]"
      ]
     },
     "execution_count": 17,
     "metadata": {},
     "output_type": "execute_result"
    }
   ],
   "source": [
    "model.evaluate(X_test_quant, y_test, batch_size=batch_size, verbose=verbose)"
   ]
  },
  {
   "cell_type": "code",
   "execution_count": 20,
   "id": "77fda798",
   "metadata": {},
   "outputs": [
    {
     "name": "stdout",
     "output_type": "stream",
     "text": [
      "INFO:tensorflow:Assets written to: ../models/quant_model\\assets\n"
     ]
    }
   ],
   "source": [
    "model.save(\"../models/quant_model\")"
   ]
  },
  {
   "cell_type": "markdown",
   "id": "81dc9739",
   "metadata": {},
   "source": [
    "#### Retrain the model with quantization aware training"
   ]
  },
  {
   "cell_type": "code",
   "execution_count": 11,
   "id": "e4b47a74",
   "metadata": {},
   "outputs": [
    {
     "name": "stdout",
     "output_type": "stream",
     "text": [
      "Model: \"sequential_1\"\n",
      "_________________________________________________________________\n",
      "Layer (type)                 Output Shape              Param #   \n",
      "=================================================================\n",
      "quantize_layer (QuantizeLaye (None, 25, 15, 1)         3         \n",
      "_________________________________________________________________\n",
      "quant_conv2d_5 (QuantizeWrap (None, 23, 1, 64)         3075      \n",
      "_________________________________________________________________\n",
      "quant_conv2d_6 (QuantizeWrap (None, 21, 1, 64)         12483     \n",
      "_________________________________________________________________\n",
      "quant_conv2d_7 (QuantizeWrap (None, 19, 1, 64)         12483     \n",
      "_________________________________________________________________\n",
      "quant_conv2d_8 (QuantizeWrap (None, 17, 1, 64)         12483     \n",
      "_________________________________________________________________\n",
      "quant_conv2d_9 (QuantizeWrap (None, 15, 1, 64)         12483     \n",
      "_________________________________________________________________\n",
      "quant_dropout_1 (QuantizeWra (None, 15, 1, 64)         1         \n",
      "_________________________________________________________________\n",
      "quant_flatten_1 (QuantizeWra (None, 960)               1         \n",
      "_________________________________________________________________\n",
      "quant_dense_2 (QuantizeWrapp (None, 1000)              961005    \n",
      "_________________________________________________________________\n",
      "quant_dense_3 (QuantizeWrapp (None, 360)               360365    \n",
      "=================================================================\n",
      "Total params: 1,374,382\n",
      "Trainable params: 1,373,712\n",
      "Non-trainable params: 670\n",
      "_________________________________________________________________\n"
     ]
    }
   ],
   "source": [
    "q_aware_model = quantize_model(model)\n",
    "q_aware_model.compile(loss='categorical_crossentropy', optimizer='adam', metrics=['accuracy'])\n",
    "q_aware_model.summary()"
   ]
  },
  {
   "cell_type": "code",
   "execution_count": 14,
   "id": "625c3f74",
   "metadata": {},
   "outputs": [
    {
     "name": "stdout",
     "output_type": "stream",
     "text": [
      "19643/19643 [==============================] - 442s 22ms/step - loss: 0.3350 - accuracy: 0.8832\n"
     ]
    }
   ],
   "source": [
    "history = q_aware_model.fit(X_train_quant, y_train, epochs=1, batch_size=batch_size, verbose=verbose)"
   ]
  },
  {
   "cell_type": "code",
   "execution_count": 15,
   "id": "e2ecf23d",
   "metadata": {},
   "outputs": [
    {
     "name": "stderr",
     "output_type": "stream",
     "text": [
      "WARNING:absl:Found untraced functions such as conv2d_5_layer_call_and_return_conditional_losses, conv2d_5_layer_call_fn, conv2d_6_layer_call_and_return_conditional_losses, conv2d_6_layer_call_fn, conv2d_7_layer_call_and_return_conditional_losses while saving (showing 5 of 45). These functions will not be directly callable after loading.\n"
     ]
    },
    {
     "name": "stdout",
     "output_type": "stream",
     "text": [
      "INFO:tensorflow:Assets written to: ../models/q_aware_model\\assets\n"
     ]
    },
    {
     "name": "stderr",
     "output_type": "stream",
     "text": [
      "INFO:tensorflow:Assets written to: ../models/q_aware_model\\assets\n"
     ]
    }
   ],
   "source": [
    "q_aware_model.save(\"../models/q_aware_model\")"
   ]
  },
  {
   "cell_type": "markdown",
   "id": "fb29e51b",
   "metadata": {},
   "source": [
    "#### Evaluate the quantization-aware model (still not actually quantized)"
   ]
  },
  {
   "cell_type": "code",
   "execution_count": 16,
   "id": "45381567",
   "metadata": {},
   "outputs": [
    {
     "name": "stdout",
     "output_type": "stream",
     "text": [
      "6586/6586 [==============================] - 51s 8ms/step - loss: 0.7179 - accuracy: 0.8304\n"
     ]
    },
    {
     "data": {
      "text/plain": [
       "[0.7178905010223389, 0.8304119110107422]"
      ]
     },
     "execution_count": 16,
     "metadata": {},
     "output_type": "execute_result"
    }
   ],
   "source": [
    "q_aware_model.evaluate(X_test_quant, y_test, batch_size=batch_size, verbose=verbose)"
   ]
  },
  {
   "cell_type": "markdown",
   "id": "035324ab",
   "metadata": {},
   "source": [
    "#### Quantize the model and evaluate"
   ]
  },
  {
   "cell_type": "markdown",
   "id": "faeff5f2",
   "metadata": {},
   "source": [
    "Helper function to call TFLite model on test samples:"
   ]
  },
  {
   "cell_type": "code",
   "execution_count": 22,
   "id": "d7114902",
   "metadata": {},
   "outputs": [],
   "source": [
    "def evaluate_model(interpeter):\n",
    "    input_details = interpreter.get_input_details()[0]\n",
    "    output_details = interpreter.get_output_details()[0]\n",
    "    \n",
    "    input_index = input_details[\"index\"]\n",
    "    output_index = output_details[\"index\"]\n",
    "    \n",
    "    predictions = []\n",
    "    samples = X_test_quant[::100] \n",
    "    \n",
    "    for i, obs in enumerate(samples):\n",
    "        print(f'Sample {i + 1}/{len(samples)}', end='\\r')\n",
    "        \n",
    "        if input_details['dtype'] == np.uint8:\n",
    "            input_scale, input_zero_point = input_details[\"quantization\"]\n",
    "            obs = obs / input_scale + input_zero_point\n",
    "            \n",
    "        interpreter.set_tensor(input_index, [obs.astype(input_details[\"dtype\"])])\n",
    "        interpreter.invoke()\n",
    "        \n",
    "        output = interpreter.get_tensor(output_index)\n",
    "        angle = np.argmax(output[0]) * RESOLUTION\n",
    "        \n",
    "        predictions.append(angle)\n",
    "        \n",
    "    print()\n",
    "        \n",
    "    predictions = np.array(predictions)\n",
    "    accuracy = (predictions == df_test.label.values[::100]).mean()\n",
    "    return accuracy"
   ]
  },
  {
   "cell_type": "markdown",
   "id": "3319e3e1",
   "metadata": {},
   "source": [
    "1) Quantization-aware model:"
   ]
  },
  {
   "cell_type": "code",
   "execution_count": 18,
   "id": "2811ca6e",
   "metadata": {},
   "outputs": [
    {
     "name": "stderr",
     "output_type": "stream",
     "text": [
      "WARNING:absl:Found untraced functions such as conv2d_5_layer_call_and_return_conditional_losses, conv2d_5_layer_call_fn, conv2d_6_layer_call_and_return_conditional_losses, conv2d_6_layer_call_fn, conv2d_7_layer_call_and_return_conditional_losses while saving (showing 5 of 45). These functions will not be directly callable after loading.\n"
     ]
    },
    {
     "name": "stdout",
     "output_type": "stream",
     "text": [
      "INFO:tensorflow:Assets written to: C:\\Users\\tkhor\\AppData\\Local\\Temp\\tmpnjm9bdxb\\assets\n"
     ]
    },
    {
     "name": "stderr",
     "output_type": "stream",
     "text": [
      "INFO:tensorflow:Assets written to: C:\\Users\\tkhor\\AppData\\Local\\Temp\\tmpnjm9bdxb\\assets\n"
     ]
    }
   ],
   "source": [
    "# Convert the model.\n",
    "converter = tf.lite.TFLiteConverter.from_keras_model(q_aware_model)\n",
    "converter.optimizations = [tf.lite.Optimize.DEFAULT]\n",
    "quantized_tflite_model = converter.convert()\n",
    "\n",
    "# Save the Lite model.\n",
    "with open('../models/quant_azimuth_model.tflite', 'wb') as f:\n",
    "    f.write(quantized_tflite_model)"
   ]
  },
  {
   "cell_type": "code",
   "execution_count": 19,
   "id": "3959034f",
   "metadata": {},
   "outputs": [
    {
     "name": "stdout",
     "output_type": "stream",
     "text": [
      "Sample 2108/2108\n"
     ]
    },
    {
     "data": {
      "text/plain": [
       "0.8325426944971537"
      ]
     },
     "execution_count": 19,
     "metadata": {},
     "output_type": "execute_result"
    }
   ],
   "source": [
    "interpreter = tf.lite.Interpreter(model_content=quantized_tflite_model)\n",
    "interpreter.allocate_tensors()\n",
    "test_accuracy = evaluate_model(interpreter)\n",
    "test_accuracy"
   ]
  },
  {
   "cell_type": "markdown",
   "id": "643ebde9",
   "metadata": {},
   "source": [
    "2) Quantization-non-aware model:"
   ]
  },
  {
   "cell_type": "code",
   "execution_count": 36,
   "id": "b33d62f8",
   "metadata": {},
   "outputs": [
    {
     "name": "stdout",
     "output_type": "stream",
     "text": [
      "INFO:tensorflow:Assets written to: C:\\Users\\tkhor\\AppData\\Local\\Temp\\tmpckb0kmr0\\assets\n"
     ]
    },
    {
     "name": "stderr",
     "output_type": "stream",
     "text": [
      "INFO:tensorflow:Assets written to: C:\\Users\\tkhor\\AppData\\Local\\Temp\\tmpckb0kmr0\\assets\n"
     ]
    }
   ],
   "source": [
    "# Convert the model.\n",
    "converter = tf.lite.TFLiteConverter.from_keras_model(model)\n",
    "converter.optimizations = [tf.lite.Optimize.DEFAULT]\n",
    "non_aware_tflite_model = converter.convert()\n",
    "\n",
    "# Save the Lite model.\n",
    "with open('../models/non_aware_model.tflite', 'wb') as f:\n",
    "    f.write(non_aware_tflite_model)"
   ]
  },
  {
   "cell_type": "code",
   "execution_count": 23,
   "id": "f12057a0",
   "metadata": {},
   "outputs": [
    {
     "name": "stdout",
     "output_type": "stream",
     "text": [
      "Sample 2108/2108\n"
     ]
    },
    {
     "data": {
      "text/plain": [
       "0.829696394686907"
      ]
     },
     "execution_count": 23,
     "metadata": {},
     "output_type": "execute_result"
    }
   ],
   "source": [
    "interpreter = tf.lite.Interpreter(model_content=non_aware_tflite_model)\n",
    "interpreter.allocate_tensors()\n",
    "test_accuracy = evaluate_model(interpreter)\n",
    "test_accuracy"
   ]
  },
  {
   "cell_type": "markdown",
   "id": "a8c7937e",
   "metadata": {},
   "source": [
    "3) Non-quantized model:"
   ]
  },
  {
   "cell_type": "code",
   "execution_count": 22,
   "id": "04d496a7",
   "metadata": {},
   "outputs": [
    {
     "name": "stdout",
     "output_type": "stream",
     "text": [
      "INFO:tensorflow:Assets written to: C:\\Users\\tkhor\\AppData\\Local\\Temp\\tmpfqlzp1oq\\assets\n"
     ]
    },
    {
     "name": "stderr",
     "output_type": "stream",
     "text": [
      "INFO:tensorflow:Assets written to: C:\\Users\\tkhor\\AppData\\Local\\Temp\\tmpfqlzp1oq\\assets\n"
     ]
    }
   ],
   "source": [
    "# Convert the model.\n",
    "converter = tf.lite.TFLiteConverter.from_keras_model(model)\n",
    "tflite_model = converter.convert()\n",
    "# Save the Lite model.\n",
    "with open('../models/conv_2d_model.tflite', 'wb') as f:\n",
    "    f.write(tflite_model)"
   ]
  },
  {
   "cell_type": "code",
   "execution_count": 25,
   "id": "dc37572d",
   "metadata": {},
   "outputs": [
    {
     "name": "stdout",
     "output_type": "stream",
     "text": [
      "Sample 2108/2108\n"
     ]
    },
    {
     "data": {
      "text/plain": [
       "0.8282732447817837"
      ]
     },
     "execution_count": 25,
     "metadata": {},
     "output_type": "execute_result"
    }
   ],
   "source": [
    "interpreter = tf.lite.Interpreter(model_content=tflite_model)\n",
    "interpreter.allocate_tensors()\n",
    "test_accuracy = evaluate_model(interpreter)\n",
    "test_accuracy"
   ]
  },
  {
   "cell_type": "markdown",
   "id": "8fd070df",
   "metadata": {},
   "source": [
    "#### Quantize inputs and outputs"
   ]
  },
  {
   "cell_type": "code",
   "execution_count": 25,
   "id": "8f882836",
   "metadata": {},
   "outputs": [],
   "source": [
    "def representative_dataset():\n",
    "    for input_value in tf.data.Dataset.from_tensor_slices(X_train_quant.astype(np.float32)).batch(1).take(100):\n",
    "        yield [input_value]"
   ]
  },
  {
   "cell_type": "code",
   "execution_count": 32,
   "id": "e0d442ff",
   "metadata": {},
   "outputs": [
    {
     "name": "stdout",
     "output_type": "stream",
     "text": [
      "INFO:tensorflow:Assets written to: C:\\Users\\tkhor\\AppData\\Local\\Temp\\tmpxr_phx5v\\assets\n"
     ]
    },
    {
     "name": "stderr",
     "output_type": "stream",
     "text": [
      "INFO:tensorflow:Assets written to: C:\\Users\\tkhor\\AppData\\Local\\Temp\\tmpxr_phx5v\\assets\n",
      "WARNING:absl:For model inputs containing unsupported operations which cannot be quantized, the `inference_input_type` attribute will default to the original type.\n"
     ]
    }
   ],
   "source": [
    "converter = tf.lite.TFLiteConverter.from_keras_model(model)\n",
    "converter.optimizations = [tf.lite.Optimize.DEFAULT]\n",
    "converter.representative_dataset = representative_dataset\n",
    "converter.target_spec.supported_ops = [tf.lite.OpsSet.TFLITE_BUILTINS_INT8]\n",
    "converter.inference_input_type = tf.uint8\n",
    "converter.inference_output_type = tf.uint8\n",
    "tflite_quant_model = converter.convert()"
   ]
  },
  {
   "cell_type": "code",
   "execution_count": 33,
   "id": "cca4d207",
   "metadata": {},
   "outputs": [
    {
     "name": "stdout",
     "output_type": "stream",
     "text": [
      "Sample 2108/2108\n"
     ]
    },
    {
     "data": {
      "text/plain": [
       "0.8273244781783681"
      ]
     },
     "execution_count": 33,
     "metadata": {},
     "output_type": "execute_result"
    }
   ],
   "source": [
    "interpreter = tf.lite.Interpreter(model_content=tflite_quant_model)\n",
    "interpreter.allocate_tensors()\n",
    "test_accuracy = evaluate_model(interpreter)\n",
    "test_accuracy"
   ]
  },
  {
   "cell_type": "code",
   "execution_count": 34,
   "id": "7b15a33c",
   "metadata": {},
   "outputs": [
    {
     "data": {
      "text/plain": [
       "[{'name': 'conv2d_5_input',\n",
       "  'index': 0,\n",
       "  'shape': array([ 1, 25, 15,  1]),\n",
       "  'shape_signature': array([-1, 25, 15,  1]),\n",
       "  'dtype': numpy.uint8,\n",
       "  'quantization': (0.002377354074269533, 45),\n",
       "  'quantization_parameters': {'scales': array([0.00237735], dtype=float32),\n",
       "   'zero_points': array([45]),\n",
       "   'quantized_dimension': 0},\n",
       "  'sparsity_parameters': {}}]"
      ]
     },
     "execution_count": 34,
     "metadata": {},
     "output_type": "execute_result"
    }
   ],
   "source": [
    "interpreter.get_input_details()"
   ]
  },
  {
   "cell_type": "code",
   "execution_count": 35,
   "id": "85267059",
   "metadata": {},
   "outputs": [],
   "source": [
    "# Save the Lite model.\n",
    "with open('../models/quant_input_model.tflite', 'wb') as f:\n",
    "    f.write(tflite_quant_model)"
   ]
  }
 ],
 "metadata": {
  "kernelspec": {
   "display_name": "Python 3 (ipykernel)",
   "language": "python",
   "name": "python3"
  },
  "language_info": {
   "codemirror_mode": {
    "name": "ipython",
    "version": 3
   },
   "file_extension": ".py",
   "mimetype": "text/x-python",
   "name": "python",
   "nbconvert_exporter": "python",
   "pygments_lexer": "ipython3",
   "version": "3.9.7"
  }
 },
 "nbformat": 4,
 "nbformat_minor": 5
}
