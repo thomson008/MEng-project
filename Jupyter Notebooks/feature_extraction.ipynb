{
 "cells": [
  {
   "cell_type": "markdown",
   "metadata": {},
   "source": [
    "## Feature extraction\n",
    "In this notebook an approach to preprocessing microphone data is explored. The idea is to group individual readings from a 8-channel audio recording into sequences longer sequences (for example of length 20). This will effectively create a list of matrices from the original data. Then, each matrix can be used to extract individual channel data and compute generalized cross-correlation (GCC-PHAT) between each pair of microphones."
   ]
  },
  {
   "cell_type": "markdown",
   "metadata": {},
   "source": [
    "#### Imports"
   ]
  },
  {
   "cell_type": "code",
   "execution_count": 88,
   "metadata": {},
   "outputs": [],
   "source": [
    "import numpy as np\n",
    "import pandas as pd\n",
    "import os\n",
    "from itertools import combinations\n",
    "from statistics import mode\n",
    "import matplotlib.pyplot as plt\n",
    "import math\n",
    "from scipy.signal import correlate"
   ]
  },
  {
   "cell_type": "markdown",
   "metadata": {},
   "source": [
    "#### GCC-PHAT computation\n",
    "Here the function for computing GCC is defined:"
   ]
  },
  {
   "cell_type": "code",
   "execution_count": 107,
   "metadata": {},
   "outputs": [],
   "source": [
    "def gcc_phat(x_1, x_2, FS=16000):\n",
    "    \"\"\"\n",
    "    Function that will compute the GCC-PHAT\n",
    "    cross-correlation of two separate audio channels\n",
    "    \n",
    "    Returns:\n",
    "        A 1-D GCC vector\n",
    "    \"\"\"\n",
    "    \n",
    "    max_len = math.ceil(0.09 / 340 * FS)\n",
    "    \n",
    "    n = len(x_1) + len(x_2) - 1\n",
    "    \n",
    "    # Fourier transforms of the two signals\n",
    "    X_1 = np.fft.rfft(x_1, n=n)\n",
    "    X_2 = np.fft.rfft(x_2, n=n)\n",
    "    \n",
    "    # GCC-PHAT = [X_1(f)X_2*(f)] / |X_1(f)X_2*(f)|\n",
    "    # See http://www.xavieranguera.com/phdthesis/node92.html for reference\n",
    "    CC = X_1 * np.conj(X_2)\n",
    "    \n",
    "    cc = np.fft.irfft(CC, n=n)\n",
    "    \n",
    "    max_len = math.ceil(0.09 / 340 * FS)\n",
    "    \n",
    "    # Trim the cc vector to only include a \n",
    "    # small number of samples around the origin\n",
    "    cc = np.concatenate((cc[-max_len:], cc[:max_len+1]))\n",
    "    \n",
    "    # Return the cross correlation\n",
    "    return cc\n",
    "\n",
    "\n"
   ]
  },
  {
   "cell_type": "markdown",
   "metadata": {},
   "source": [
    "Let's test the above function and plot an example cross-correlation between an arbitrary signal and its noisy version:"
   ]
  },
  {
   "cell_type": "code",
   "execution_count": 108,
   "metadata": {},
   "outputs": [
    {
     "data": {
      "image/png": "[encoded data removed]",
      "text/plain": [
       "<Figure size 432x288 with 1 Axes>"
      ]
     },
     "metadata": {
      "needs_background": "light"
     },
     "output_type": "display_data"
    },
    {
     "name": "stdout",
     "output_type": "stream",
     "text": [
      "11\n"
     ]
    },
    {
     "data": {
      "text/plain": [
       "496.69992208971235"
      ]
     },
     "execution_count": 108,
     "metadata": {},
     "output_type": "execute_result"
    }
   ],
   "source": [
    "sig = np.repeat([0., 1., 1., 0., 1., 0., 0., 1.], 128)\n",
    "sig_noise = sig + np.random.randn(len(sig))\n",
    "\n",
    "gcc = gcc_phat(sig, sig_noise)\n",
    "plt.plot(gcc)\n",
    "plt.show()\n",
    "\n",
    "print(len(gcc))\n",
    "gcc[0]"
   ]
  },
  {
   "cell_type": "code",
   "execution_count": 110,
   "metadata": {},
   "outputs": [
    {
     "data": {
      "image/png": "[encoded data removed]",
      "text/plain": [
       "<Figure size 432x288 with 1 Axes>"
      ]
     },
     "metadata": {
      "needs_background": "light"
     },
     "output_type": "display_data"
    },
    {
     "data": {
      "text/plain": [
       "11"
      ]
     },
     "execution_count": 110,
     "metadata": {},
     "output_type": "execute_result"
    }
   ],
   "source": [
    "cc = correlate(sig, sig_noise)\n",
    "mid = len(cc) // 2\n",
    "cc = cc[mid-5:mid+6]\n",
    "plt.plot(cc)\n",
    "plt.show()\n",
    "\n",
    "\n",
    "cc[0]\n",
    "len(cc)"
   ]
  },
  {
   "cell_type": "markdown",
   "metadata": {},
   "source": [
    "#### Creating observations\n",
    "In the following code cell one can find a function that accepts a pandas dataframe containing rows of consecutive readings from a microphone array and transforms it into a list of GCC matrices."
   ]
  },
  {
   "cell_type": "code",
   "execution_count": 5,
   "metadata": {},
   "outputs": [],
   "source": [
    "def create_observations(dataframe, samples=1, step=1, resolution=20):\n",
    "    \"\"\"\n",
    "    Create list of observations from the pandas dataframe.\n",
    "    Each observation will be a GCC matrix, where each row is a vector\n",
    "    of GCC between a given pair of microphones.\n",
    "    \n",
    "    Returns: \n",
    "        a tuple of observations and their corresponding labels\n",
    "    \"\"\"\n",
    "    \n",
    "    # Lists of observations and labels that will be populated\n",
    "    X = []\n",
    "    y = []\n",
    "    \n",
    "    # Loop through the dataframe and take subframes\n",
    "    for i in range(0, len(dataframe) - samples + 1, step):\n",
    "        sub_df = dataframe.iloc[i : i + samples]\n",
    "        \n",
    "        # Extract the label as the most common label\n",
    "        # from the subframe\n",
    "        label = mode(sub_df['angle'])\n",
    "        rounded_label = round(label / resolution) * resolution\n",
    "        y.append(rounded_label)\n",
    "        \n",
    "        # Extract the observation from subframe by discarding the label column\n",
    "        observation = np.array(sub_df.iloc[:, :-1])\n",
    "        \n",
    "        mic_pairs = combinations(dataframe.columns[:-1], r=2)\n",
    "        \n",
    "        # Initialize a transformed observation, that will be populated with GCC vectors\n",
    "        # of the observation\n",
    "        transformed_observation = []\n",
    "        \n",
    "        # Compute GCC for every pair of microphones\n",
    "        for mic_1, mic_2 in mic_pairs:\n",
    "            x_1 = observation[:, int(mic_1[-1]) - 1]\n",
    "            x_2 = observation[:, int(mic_2[-1]) - 1]\n",
    "            \n",
    "            gcc = gcc_phat(x_1, x_2)\n",
    "            \n",
    "            # Add the GCC vector to the GCC matrix\n",
    "            transformed_observation.append(gcc)\n",
    "            \n",
    "        # Add the GCC matrix to the list of observations\n",
    "        X.append(transformed_observation)\n",
    "        \n",
    "    return X, y"
   ]
  },
  {
   "cell_type": "markdown",
   "metadata": {},
   "source": [
    "#### Testing the function to create observations"
   ]
  },
  {
   "cell_type": "code",
   "execution_count": 10,
   "metadata": {},
   "outputs": [
    {
     "name": "stdout",
     "output_type": "stream",
     "text": [
      "X shape: (13301, 15, 42)\n",
      "y shape: (13301,)\n"
     ]
    }
   ],
   "source": [
    "path = os.path.join('..', 'training_data', 'angle_10_dist_50_CantinaBand3.csv')\n",
    "df = pd.read_csv(path, dtype=np.int16)\n",
    "\n",
    "X, y = create_observations(df, samples=20, step=5, resolution=20)\n",
    "\n",
    "print('X shape: ' + str(np.shape(X)))\n",
    "print('y shape: ' + str(np.shape(y)))"
   ]
  },
  {
   "cell_type": "code",
   "execution_count": null,
   "metadata": {},
   "outputs": [],
   "source": []
  }
 ],
 "metadata": {
  "kernelspec": {
   "display_name": "Python 3",
   "language": "python",
   "name": "python3"
  },
  "language_info": {
   "codemirror_mode": {
    "name": "ipython",
    "version": 3
   },
   "file_extension": ".py",
   "mimetype": "text/x-python",
   "name": "python",
   "nbconvert_exporter": "python",
   "pygments_lexer": "ipython3",
   "version": "3.7.4"
  }
 },
 "nbformat": 4,
 "nbformat_minor": 4
}
