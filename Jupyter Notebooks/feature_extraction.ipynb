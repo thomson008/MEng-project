{
 "cells": [
  {
   "cell_type": "markdown",
   "metadata": {},
   "source": [
    "## Feature extraction\n",
    "In this notebook an approach to preprocessing microphone data is explored. The idea is to group individual readings from a 8-channel audio recording into sequences longer sequences (for example of length 20). This will effectively create a list of matrices from the original data. Then, each matrix can be used to extract individual channel data and compute generalized cross-correlation (GCC-PHAT) between each pair of microphones."
   ]
  },
  {
   "cell_type": "markdown",
   "metadata": {},
   "source": [
    "#### Imports"
   ]
  },
  {
   "cell_type": "code",
   "execution_count": 14,
   "metadata": {},
   "outputs": [],
   "source": [
    "import numpy as np\n",
    "import pandas as pd\n",
    "import os\n",
    "from itertools import combinations\n",
    "from statistics import mode\n",
    "import matplotlib.pyplot as plt"
   ]
  },
  {
   "cell_type": "markdown",
   "metadata": {},
   "source": [
    "#### GCC-PHAT computation\n",
    "Here the function for computing GCC is defined:"
   ]
  },
  {
   "cell_type": "code",
   "execution_count": 286,
   "metadata": {},
   "outputs": [],
   "source": [
    "def gcc_phat(x_1, x_2):\n",
    "    \"\"\"\n",
    "    Function that will compute the GCC-PHAT\n",
    "    cross-correlation of two separate audio channels\n",
    "    \n",
    "    Returns:\n",
    "        A 1-D GCC vector\n",
    "    \"\"\"\n",
    "    \n",
    "    n = len(x_1) + len(x_2) - 1\n",
    "    n += 1 if n % 2 else 0\n",
    "    \n",
    "    # Fourier transforms of the two signals\n",
    "    X_1 = np.fft.rfft(x_1, n=n)\n",
    "    X_2 = np.fft.rfft(x_2, n=n)\n",
    "    \n",
    "    # GCC-PHAT = [X_1(f)X_2*(f)] / |X_1(f)X_2*(f)|\n",
    "    # See http://www.xavieranguera.com/phdthesis/node92.html for reference\n",
    "    num = X_1 * np.conj(X_2)\n",
    "    \n",
    "    CC = num\n",
    "    cc = np.fft.irfft(CC, n=n)\n",
    "    \n",
    "    t_max = n // 2 + 1\n",
    "    \n",
    "    cc = np.concatenate((cc[-t_max:], cc[:t_max]))\n",
    "    \n",
    "    # Return the cross correlation\n",
    "    return cc"
   ]
  },
  {
   "cell_type": "markdown",
   "metadata": {},
   "source": [
    "Let's test the above function and plot an example cross-correlation between an arbitrary signal and its noisy version:"
   ]
  },
  {
   "cell_type": "code",
   "execution_count": 287,
   "metadata": {},
   "outputs": [
    {
     "data": {
      "image/png": "[encoded data removed]",
      "text/plain": [
       "<Figure size 432x288 with 1 Axes>"
      ]
     },
     "metadata": {
      "needs_background": "light"
     },
     "output_type": "display_data"
    },
    {
     "name": "stdout",
     "output_type": "stream",
     "text": [
      "2034\n"
     ]
    }
   ],
   "source": [
    "sig = np.repeat([0., 1., 1., 0., 1., 0., 0., 1.], 127)\n",
    "sig_noise = sig + np.random.randn(len(sig))\n",
    "\n",
    "gcc = gcc_phat(sig, sig_noise)\n",
    "plt.plot(gcc)\n",
    "plt.show()\n",
    "print(len(gcc))"
   ]
  },
  {
   "cell_type": "markdown",
   "metadata": {},
   "source": [
    "#### Creating observations\n",
    "In the following code cell one can find a function that accepts a pandas dataframe containing rows of consecutive readings from a microphone array and transforms it into a list of GCC matrices."
   ]
  },
  {
   "cell_type": "code",
   "execution_count": 280,
   "metadata": {},
   "outputs": [],
   "source": [
    "def create_observations(dataframe, samples=1, step=1):\n",
    "    \"\"\"\n",
    "    Create list of observations from the pandas dataframe.\n",
    "    Each observation will be a GCC matrix, where each row is a vector\n",
    "    of GCC between a given pair of microphones.\n",
    "    \n",
    "    Returns: \n",
    "        a tuple of observations and their corresponding labels\n",
    "    \"\"\"\n",
    "    \n",
    "    # Lists of observations and labels that will be populated\n",
    "    X = []\n",
    "    y = []\n",
    "    \n",
    "    # Loop through the dataframe and take subframes\n",
    "    for i in range(0, len(dataframe) - samples + 1, step):\n",
    "        sub_df = dataframe.iloc[i : i + samples]\n",
    "        \n",
    "        # Extract the label as the most common label\n",
    "        # from the subframe\n",
    "        label = mode(sub_df['angle'])\n",
    "        y.append(label)\n",
    "        \n",
    "        # Extract the observation from subframe by discarding the label column\n",
    "        observation = np.array(sub_df.iloc[:, :-1])\n",
    "        \n",
    "        mic_pairs = combinations(dataframe.columns[:-1], r=2)\n",
    "        \n",
    "        # Initialize a transformed observation, that will be populated with GCC vectors\n",
    "        # of the observation\n",
    "        transformed_observation = []\n",
    "        \n",
    "        # Compute GCC for every pair of microphones\n",
    "        for mic_1, mic_2 in mic_pairs:\n",
    "            x_1 = observation[:, int(mic_1[-1]) - 1]\n",
    "            x_2 = observation[:, int(mic_2[-1]) - 1]\n",
    "            \n",
    "            gcc = gcc_phat(x_1, x_2)\n",
    "            \n",
    "            # Add the GCC vector to the GCC matrix\n",
    "            transformed_observation.append(gcc)\n",
    "            \n",
    "        # Add the GCC matrix to the list of observations\n",
    "        X.append(transformed_observation)\n",
    "        \n",
    "    return X, y"
   ]
  },
  {
   "cell_type": "markdown",
   "metadata": {},
   "source": [
    "#### Testing the function to create observations"
   ]
  },
  {
   "cell_type": "code",
   "execution_count": 281,
   "metadata": {},
   "outputs": [
    {
     "name": "stdout",
     "output_type": "stream",
     "text": [
      "X shape: (15506, 21, 42)\n",
      "y shape: (15506,)\n"
     ]
    }
   ],
   "source": [
    "path = os.path.join('..', 'training_data', 'angle_0_dist_50.csv')\n",
    "df = pd.read_csv(path, dtype=np.int16)\n",
    "\n",
    "X, y = create_observations(df, samples=20, step=5)\n",
    "\n",
    "print('X shape: ' + str(np.shape(X)))\n",
    "print('y shape: ' + str(np.shape(y)))"
   ]
  }
 ],
 "metadata": {
  "kernelspec": {
   "display_name": "Python 3",
   "language": "python",
   "name": "python3"
  },
  "language_info": {
   "codemirror_mode": {
    "name": "ipython",
    "version": 3
   },
   "file_extension": ".py",
   "mimetype": "text/x-python",
   "name": "python",
   "nbconvert_exporter": "python",
   "pygments_lexer": "ipython3",
   "version": "3.7.4"
  }
 },
 "nbformat": 4,
 "nbformat_minor": 4
}
